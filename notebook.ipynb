{
 "cells": [
  {
   "cell_type": "markdown",
   "id": "9187e9f5",
   "metadata": {},
   "source": [
    "# Stock Market API Project"
   ]
  },
  {
   "cell_type": "markdown",
   "id": "7621c178",
   "metadata": {},
   "source": [
    "## How to load API key"
   ]
  },
  {
   "cell_type": "code",
   "execution_count": 4,
   "id": "4bd4737a",
   "metadata": {},
   "outputs": [],
   "source": [
    "import streamlit as st\n",
    "\n",
    "api_key = st.secrets[\"API_KEY\"]"
   ]
  },
  {
   "cell_type": "markdown",
   "id": "ceb62c44",
   "metadata": {},
   "source": [
    "# Search Endpoint\n",
    "To get particular company details and symbol"
   ]
  },
  {
   "cell_type": "code",
   "execution_count": 5,
   "id": "139b3da9",
   "metadata": {},
   "outputs": [
    {
     "name": "stdout",
     "output_type": "stream",
     "text": [
      "{'bestMatches': [{'1. symbol': 'SBIN.BSE', '2. name': 'State Bank of India', '3. type': 'Equity', '4. region': 'India/Bombay', '5. marketOpen': '09:15', '6. marketClose': '15:30', '7. timezone': 'UTC+5.5', '8. currency': 'INR', '9. matchScore': '1.0000'}, {'1. symbol': 'SBKFF', '2. name': 'State Bank of India', '3. type': 'Equity', '4. region': 'United States', '5. marketOpen': '09:30', '6. marketClose': '16:00', '7. timezone': 'UTC-04', '8. currency': 'USD', '9. matchScore': '1.0000'}, {'1. symbol': 'SID.FRK', '2. name': 'State Bank of India', '3. type': 'Equity', '4. region': 'Frankfurt', '5. marketOpen': '08:00', '6. marketClose': '20:00', '7. timezone': 'UTC+02', '8. currency': 'EUR', '9. matchScore': '1.0000'}, {'1. symbol': 'SBID.LON', '2. name': 'State Bank of India GDR', '3. type': 'Equity', '4. region': 'United Kingdom', '5. marketOpen': '08:00', '6. marketClose': '16:30', '7. timezone': 'UTC+01', '8. currency': 'USD', '9. matchScore': '0.9048'}]}\n"
     ]
    }
   ],
   "source": [
    "import requests\n",
    "\n",
    "url = \"https://alpha-vantage.p.rapidapi.com/query\"\n",
    "\n",
    "querystring = {\"datatype\":\"json\",\"keywords\":\"State Bank of India\",\"function\":\"SYMBOL_SEARCH\"}\n",
    "\n",
    "headers = {\n",
    "\t\"x-rapidapi-key\": api_key,\n",
    "\t\"x-rapidapi-host\": \"alpha-vantage.p.rapidapi.com\"\n",
    "}\n",
    "\n",
    "response = requests.get(url, headers=headers, params=querystring)\n",
    "\n",
    "data = response.json()\n",
    "\n",
    "print(data)"
   ]
  },
  {
   "cell_type": "code",
   "execution_count": 6,
   "id": "0e49d366",
   "metadata": {},
   "outputs": [
    {
     "data": {
      "text/plain": [
       "[{'1. symbol': 'SBIN.BSE',\n",
       "  '2. name': 'State Bank of India',\n",
       "  '3. type': 'Equity',\n",
       "  '4. region': 'India/Bombay',\n",
       "  '5. marketOpen': '09:15',\n",
       "  '6. marketClose': '15:30',\n",
       "  '7. timezone': 'UTC+5.5',\n",
       "  '8. currency': 'INR',\n",
       "  '9. matchScore': '1.0000'},\n",
       " {'1. symbol': 'SBKFF',\n",
       "  '2. name': 'State Bank of India',\n",
       "  '3. type': 'Equity',\n",
       "  '4. region': 'United States',\n",
       "  '5. marketOpen': '09:30',\n",
       "  '6. marketClose': '16:00',\n",
       "  '7. timezone': 'UTC-04',\n",
       "  '8. currency': 'USD',\n",
       "  '9. matchScore': '1.0000'},\n",
       " {'1. symbol': 'SID.FRK',\n",
       "  '2. name': 'State Bank of India',\n",
       "  '3. type': 'Equity',\n",
       "  '4. region': 'Frankfurt',\n",
       "  '5. marketOpen': '08:00',\n",
       "  '6. marketClose': '20:00',\n",
       "  '7. timezone': 'UTC+02',\n",
       "  '8. currency': 'EUR',\n",
       "  '9. matchScore': '1.0000'},\n",
       " {'1. symbol': 'SBID.LON',\n",
       "  '2. name': 'State Bank of India GDR',\n",
       "  '3. type': 'Equity',\n",
       "  '4. region': 'United Kingdom',\n",
       "  '5. marketOpen': '08:00',\n",
       "  '6. marketClose': '16:30',\n",
       "  '7. timezone': 'UTC+01',\n",
       "  '8. currency': 'USD',\n",
       "  '9. matchScore': '0.9048'}]"
      ]
     },
     "execution_count": 6,
     "metadata": {},
     "output_type": "execute_result"
    }
   ],
   "source": [
    "data[\"bestMatches\"]"
   ]
  },
  {
   "cell_type": "code",
   "execution_count": 9,
   "id": "0968f955",
   "metadata": {},
   "outputs": [
    {
     "data": {
      "text/html": [
       "<div>\n",
       "<style scoped>\n",
       "    .dataframe tbody tr th:only-of-type {\n",
       "        vertical-align: middle;\n",
       "    }\n",
       "\n",
       "    .dataframe tbody tr th {\n",
       "        vertical-align: top;\n",
       "    }\n",
       "\n",
       "    .dataframe thead th {\n",
       "        text-align: right;\n",
       "    }\n",
       "</style>\n",
       "<table border=\"1\" class=\"dataframe\">\n",
       "  <thead>\n",
       "    <tr style=\"text-align: right;\">\n",
       "      <th></th>\n",
       "      <th>1. symbol</th>\n",
       "      <th>2. name</th>\n",
       "      <th>3. type</th>\n",
       "      <th>4. region</th>\n",
       "      <th>5. marketOpen</th>\n",
       "      <th>6. marketClose</th>\n",
       "      <th>7. timezone</th>\n",
       "      <th>8. currency</th>\n",
       "      <th>9. matchScore</th>\n",
       "    </tr>\n",
       "  </thead>\n",
       "  <tbody>\n",
       "    <tr>\n",
       "      <th>0</th>\n",
       "      <td>SBIN.BSE</td>\n",
       "      <td>State Bank of India</td>\n",
       "      <td>Equity</td>\n",
       "      <td>India/Bombay</td>\n",
       "      <td>09:15</td>\n",
       "      <td>15:30</td>\n",
       "      <td>UTC+5.5</td>\n",
       "      <td>INR</td>\n",
       "      <td>1.0000</td>\n",
       "    </tr>\n",
       "    <tr>\n",
       "      <th>1</th>\n",
       "      <td>SBKFF</td>\n",
       "      <td>State Bank of India</td>\n",
       "      <td>Equity</td>\n",
       "      <td>United States</td>\n",
       "      <td>09:30</td>\n",
       "      <td>16:00</td>\n",
       "      <td>UTC-04</td>\n",
       "      <td>USD</td>\n",
       "      <td>1.0000</td>\n",
       "    </tr>\n",
       "    <tr>\n",
       "      <th>2</th>\n",
       "      <td>SID.FRK</td>\n",
       "      <td>State Bank of India</td>\n",
       "      <td>Equity</td>\n",
       "      <td>Frankfurt</td>\n",
       "      <td>08:00</td>\n",
       "      <td>20:00</td>\n",
       "      <td>UTC+02</td>\n",
       "      <td>EUR</td>\n",
       "      <td>1.0000</td>\n",
       "    </tr>\n",
       "    <tr>\n",
       "      <th>3</th>\n",
       "      <td>SBID.LON</td>\n",
       "      <td>State Bank of India GDR</td>\n",
       "      <td>Equity</td>\n",
       "      <td>United Kingdom</td>\n",
       "      <td>08:00</td>\n",
       "      <td>16:30</td>\n",
       "      <td>UTC+01</td>\n",
       "      <td>USD</td>\n",
       "      <td>0.9048</td>\n",
       "    </tr>\n",
       "  </tbody>\n",
       "</table>\n",
       "</div>"
      ],
      "text/plain": [
       "  1. symbol                  2. name 3. type       4. region 5. marketOpen  \\\n",
       "0  SBIN.BSE      State Bank of India  Equity    India/Bombay         09:15   \n",
       "1     SBKFF      State Bank of India  Equity   United States         09:30   \n",
       "2   SID.FRK      State Bank of India  Equity       Frankfurt         08:00   \n",
       "3  SBID.LON  State Bank of India GDR  Equity  United Kingdom         08:00   \n",
       "\n",
       "  6. marketClose 7. timezone 8. currency 9. matchScore  \n",
       "0          15:30     UTC+5.5         INR        1.0000  \n",
       "1          16:00      UTC-04         USD        1.0000  \n",
       "2          20:00      UTC+02         EUR        1.0000  \n",
       "3          16:30      UTC+01         USD        0.9048  "
      ]
     },
     "execution_count": 9,
     "metadata": {},
     "output_type": "execute_result"
    }
   ],
   "source": [
    "import pandas as pd\n",
    "\n",
    "df = pd.DataFrame(data[\"bestMatches\"])\n",
    "df"
   ]
  },
  {
   "cell_type": "code",
   "execution_count": 11,
   "id": "52e031ce",
   "metadata": {},
   "outputs": [
    {
     "data": {
      "text/html": [
       "<div>\n",
       "<style scoped>\n",
       "    .dataframe tbody tr th:only-of-type {\n",
       "        vertical-align: middle;\n",
       "    }\n",
       "\n",
       "    .dataframe tbody tr th {\n",
       "        vertical-align: top;\n",
       "    }\n",
       "\n",
       "    .dataframe thead th {\n",
       "        text-align: right;\n",
       "    }\n",
       "</style>\n",
       "<table border=\"1\" class=\"dataframe\">\n",
       "  <thead>\n",
       "    <tr style=\"text-align: right;\">\n",
       "      <th></th>\n",
       "      <th>1. symbol</th>\n",
       "      <th>2. name</th>\n",
       "      <th>3. type</th>\n",
       "      <th>4. region</th>\n",
       "    </tr>\n",
       "  </thead>\n",
       "  <tbody>\n",
       "    <tr>\n",
       "      <th>0</th>\n",
       "      <td>SBIN.BSE</td>\n",
       "      <td>State Bank of India</td>\n",
       "      <td>Equity</td>\n",
       "      <td>India/Bombay</td>\n",
       "    </tr>\n",
       "    <tr>\n",
       "      <th>1</th>\n",
       "      <td>SBKFF</td>\n",
       "      <td>State Bank of India</td>\n",
       "      <td>Equity</td>\n",
       "      <td>United States</td>\n",
       "    </tr>\n",
       "    <tr>\n",
       "      <th>2</th>\n",
       "      <td>SID.FRK</td>\n",
       "      <td>State Bank of India</td>\n",
       "      <td>Equity</td>\n",
       "      <td>Frankfurt</td>\n",
       "    </tr>\n",
       "    <tr>\n",
       "      <th>3</th>\n",
       "      <td>SBID.LON</td>\n",
       "      <td>State Bank of India GDR</td>\n",
       "      <td>Equity</td>\n",
       "      <td>United Kingdom</td>\n",
       "    </tr>\n",
       "  </tbody>\n",
       "</table>\n",
       "</div>"
      ],
      "text/plain": [
       "  1. symbol                  2. name 3. type       4. region\n",
       "0  SBIN.BSE      State Bank of India  Equity    India/Bombay\n",
       "1     SBKFF      State Bank of India  Equity   United States\n",
       "2   SID.FRK      State Bank of India  Equity       Frankfurt\n",
       "3  SBID.LON  State Bank of India GDR  Equity  United Kingdom"
      ]
     },
     "execution_count": 11,
     "metadata": {},
     "output_type": "execute_result"
    }
   ],
   "source": [
    "search = df.iloc[:, 0:4]\n",
    "search"
   ]
  },
  {
   "cell_type": "markdown",
   "id": "320b0780",
   "metadata": {},
   "source": [
    "# Symbol - SBIN.BSE"
   ]
  },
  {
   "cell_type": "markdown",
   "id": "c6ba504b",
   "metadata": {},
   "source": [
    "# TIME_SERIES_DAILY"
   ]
  },
  {
   "cell_type": "code",
   "execution_count": 12,
   "id": "7520b9b7",
   "metadata": {},
   "outputs": [],
   "source": [
    "import requests\n",
    "\n",
    "url = \"https://alpha-vantage.p.rapidapi.com/query\"\n",
    "\n",
    "querystring = {\"function\":\"TIME_SERIES_DAILY\",\"symbol\":\"SBIN.BSE\",\"outputsize\":\"compact\",\"datatype\":\"json\"}\n",
    "\n",
    "headers = {\n",
    "\t\"x-rapidapi-key\": api_key,\n",
    "\t\"x-rapidapi-host\": \"alpha-vantage.p.rapidapi.com\"\n",
    "}\n",
    "\n",
    "response = requests.get(url, headers=headers, params=querystring)\n",
    "\n",
    "sbi_data = response.json()"
   ]
  },
  {
   "cell_type": "code",
   "execution_count": 13,
   "id": "e7df9f34",
   "metadata": {},
   "outputs": [
    {
     "data": {
      "text/plain": [
       "dict_keys(['Meta Data', 'Time Series (Daily)'])"
      ]
     },
     "execution_count": 13,
     "metadata": {},
     "output_type": "execute_result"
    }
   ],
   "source": [
    "sbi_data.keys()"
   ]
  },
  {
   "cell_type": "code",
   "execution_count": 14,
   "id": "aca6383a",
   "metadata": {},
   "outputs": [
    {
     "data": {
      "text/plain": [
       "{'2025-07-16': {'1. open': '816.5000',\n",
       "  '2. high': '834.0000',\n",
       "  '3. low': '815.1500',\n",
       "  '4. close': '831.5500',\n",
       "  '5. volume': '1238621'},\n",
       " '2025-07-15': {'1. open': '810.2000',\n",
       "  '2. high': '821.0000',\n",
       "  '3. low': '810.2000',\n",
       "  '4. close': '816.7500',\n",
       "  '5. volume': '460084'},\n",
       " '2025-07-14': {'1. open': '810.4000',\n",
       "  '2. high': '815.6000',\n",
       "  '3. low': '808.0000',\n",
       "  '4. close': '809.3000',\n",
       "  '5. volume': '435542'},\n",
       " '2025-07-11': {'1. open': '808.0000',\n",
       "  '2. high': '812.6000',\n",
       "  '3. low': '804.5000',\n",
       "  '4. close': '808.5000',\n",
       "  '5. volume': '227573'},\n",
       " '2025-07-10': {'1. open': '812.0000',\n",
       "  '2. high': '815.5000',\n",
       "  '3. low': '807.0500',\n",
       "  '4. close': '808.0000',\n",
       "  '5. volume': '174968'},\n",
       " '2025-07-09': {'1. open': '810.0000',\n",
       "  '2. high': '812.2500',\n",
       "  '3. low': '809.1000',\n",
       "  '4. close': '810.8500',\n",
       "  '5. volume': '176144'},\n",
       " '2025-07-08': {'1. open': '808.9500',\n",
       "  '2. high': '813.8500',\n",
       "  '3. low': '805.5000',\n",
       "  '4. close': '812.8000',\n",
       "  '5. volume': '573527'},\n",
       " '2025-07-07': {'1. open': '812.8000',\n",
       "  '2. high': '812.8000',\n",
       "  '3. low': '805.2000',\n",
       "  '4. close': '806.9500',\n",
       "  '5. volume': '116638'},\n",
       " '2025-07-04': {'1. open': '810.2500',\n",
       "  '2. high': '813.5000',\n",
       "  '3. low': '804.2000',\n",
       "  '4. close': '811.8500',\n",
       "  '5. volume': '359322'},\n",
       " '2025-07-03': {'1. open': '813.0000',\n",
       "  '2. high': '815.0000',\n",
       "  '3. low': '806.0000',\n",
       "  '4. close': '807.1000',\n",
       "  '5. volume': '429112'},\n",
       " '2025-07-02': {'1. open': '820.7000',\n",
       "  '2. high': '824.3500',\n",
       "  '3. low': '809.1000',\n",
       "  '4. close': '813.2000',\n",
       "  '5. volume': '193280'},\n",
       " '2025-07-01': {'1. open': '820.3500',\n",
       "  '2. high': '824.9500',\n",
       "  '3. low': '813.2500',\n",
       "  '4. close': '820.2500',\n",
       "  '5. volume': '633178'},\n",
       " '2025-06-30': {'1. open': '808.9500',\n",
       "  '2. high': '821.0000',\n",
       "  '3. low': '807.0500',\n",
       "  '4. close': '820.3500',\n",
       "  '5. volume': '478069'},\n",
       " '2025-06-27': {'1. open': '806.0000',\n",
       "  '2. high': '809.5000',\n",
       "  '3. low': '802.4000',\n",
       "  '4. close': '805.4000',\n",
       "  '5. volume': '477274'},\n",
       " '2025-06-26': {'1. open': '802.7000',\n",
       "  '2. high': '803.4500',\n",
       "  '3. low': '791.5000',\n",
       "  '4. close': '797.0000',\n",
       "  '5. volume': '478368'},\n",
       " '2025-06-25': {'1. open': '799.0000',\n",
       "  '2. high': '805.0000',\n",
       "  '3. low': '796.1000',\n",
       "  '4. close': '800.1000',\n",
       "  '5. volume': '197275'},\n",
       " '2025-06-24': {'1. open': '798.5000',\n",
       "  '2. high': '806.5000',\n",
       "  '3. low': '793.6000',\n",
       "  '4. close': '795.2500',\n",
       "  '5. volume': '937612'},\n",
       " '2025-06-23': {'1. open': '790.2000',\n",
       "  '2. high': '794.6000',\n",
       "  '3. low': '788.4500',\n",
       "  '4. close': '790.1500',\n",
       "  '5. volume': '212782'},\n",
       " '2025-06-20': {'1. open': '787.9500',\n",
       "  '2. high': '799.1000',\n",
       "  '3. low': '786.3000',\n",
       "  '4. close': '796.0000',\n",
       "  '5. volume': '224991'},\n",
       " '2025-06-19': {'1. open': '792.8500',\n",
       "  '2. high': '793.2000',\n",
       "  '3. low': '781.5000',\n",
       "  '4. close': '784.7000',\n",
       "  '5. volume': '235832'},\n",
       " '2025-06-18': {'1. open': '792.1000',\n",
       "  '2. high': '795.5000',\n",
       "  '3. low': '788.3500',\n",
       "  '4. close': '791.7500',\n",
       "  '5. volume': '131579'},\n",
       " '2025-06-17': {'1. open': '793.5000',\n",
       "  '2. high': '798.8000',\n",
       "  '3. low': '790.7500',\n",
       "  '4. close': '792.2000',\n",
       "  '5. volume': '1103108'},\n",
       " '2025-06-16': {'1. open': '792.5500',\n",
       "  '2. high': '795.3500',\n",
       "  '3. low': '786.3500',\n",
       "  '4. close': '792.8500',\n",
       "  '5. volume': '1385709'},\n",
       " '2025-06-13': {'1. open': '789.7500',\n",
       "  '2. high': '796.2000',\n",
       "  '3. low': '788.9000',\n",
       "  '4. close': '792.4000',\n",
       "  '5. volume': '362528'},\n",
       " '2025-06-12': {'1. open': '816.0000',\n",
       "  '2. high': '816.5500',\n",
       "  '3. low': '801.2500',\n",
       "  '4. close': '805.6500',\n",
       "  '5. volume': '182058'},\n",
       " '2025-06-11': {'1. open': '817.0500',\n",
       "  '2. high': '820.6000',\n",
       "  '3. low': '812.9000',\n",
       "  '4. close': '814.9500',\n",
       "  '5. volume': '183277'},\n",
       " '2025-06-10': {'1. open': '821.9500',\n",
       "  '2. high': '821.9500',\n",
       "  '3. low': '814.6500',\n",
       "  '4. close': '817.0500',\n",
       "  '5. volume': '406292'},\n",
       " '2025-06-09': {'1. open': '817.1000',\n",
       "  '2. high': '824.4000',\n",
       "  '3. low': '815.6000',\n",
       "  '4. close': '820.0500',\n",
       "  '5. volume': '432300'},\n",
       " '2025-06-06': {'1. open': '806.1000',\n",
       "  '2. high': '816.4500',\n",
       "  '3. low': '802.9000',\n",
       "  '4. close': '812.8500',\n",
       "  '5. volume': '943903'},\n",
       " '2025-06-05': {'1. open': '809.0000',\n",
       "  '2. high': '811.9000',\n",
       "  '3. low': '803.0000',\n",
       "  '4. close': '806.1000',\n",
       "  '5. volume': '319568'},\n",
       " '2025-06-04': {'1. open': '815.1000',\n",
       "  '2. high': '815.9500',\n",
       "  '3. low': '805.0000',\n",
       "  '4. close': '806.4500',\n",
       "  '5. volume': '147931'},\n",
       " '2025-06-03': {'1. open': '816.9000',\n",
       "  '2. high': '817.9500',\n",
       "  '3. low': '805.2000',\n",
       "  '4. close': '809.7500',\n",
       "  '5. volume': '1443812'},\n",
       " '2025-06-02': {'1. open': '812.1000',\n",
       "  '2. high': '822.5000',\n",
       "  '3. low': '809.1000',\n",
       "  '4. close': '813.4500',\n",
       "  '5. volume': '1094058'},\n",
       " '2025-05-30': {'1. open': '797.3500',\n",
       "  '2. high': '814.3500',\n",
       "  '3. low': '792.7500',\n",
       "  '4. close': '812.4000',\n",
       "  '5. volume': '510858'},\n",
       " '2025-05-29': {'1. open': '797.1000',\n",
       "  '2. high': '800.0000',\n",
       "  '3. low': '791.4000',\n",
       "  '4. close': '797.3000',\n",
       "  '5. volume': '250346'},\n",
       " '2025-05-28': {'1. open': '794.0000',\n",
       "  '2. high': '798.8500',\n",
       "  '3. low': '792.9000',\n",
       "  '4. close': '796.4500',\n",
       "  '5. volume': '282344'},\n",
       " '2025-05-27': {'1. open': '794.1500',\n",
       "  '2. high': '801.1500',\n",
       "  '3. low': '789.7500',\n",
       "  '4. close': '793.8000',\n",
       "  '5. volume': '1122936'},\n",
       " '2025-05-26': {'1. open': '791.4500',\n",
       "  '2. high': '797.5500',\n",
       "  '3. low': '789.3000',\n",
       "  '4. close': '794.3500',\n",
       "  '5. volume': '247585'},\n",
       " '2025-05-23': {'1. open': '787.2000',\n",
       "  '2. high': '794.8000',\n",
       "  '3. low': '786.4000',\n",
       "  '4. close': '790.4500',\n",
       "  '5. volume': '456862'},\n",
       " '2025-05-22': {'1. open': '788.9000',\n",
       "  '2. high': '788.9000',\n",
       "  '3. low': '780.6000',\n",
       "  '4. close': '785.3500',\n",
       "  '5. volume': '390333'},\n",
       " '2025-05-21': {'1. open': '786.5000',\n",
       "  '2. high': '790.7000',\n",
       "  '3. low': '779.4000',\n",
       "  '4. close': '787.2000',\n",
       "  '5. volume': '260511'},\n",
       " '2025-05-20': {'1. open': '798.2500',\n",
       "  '2. high': '799.6500',\n",
       "  '3. low': '784.0000',\n",
       "  '4. close': '785.3500',\n",
       "  '5. volume': '441739'},\n",
       " '2025-05-19': {'1. open': '792.9500',\n",
       "  '2. high': '801.3500',\n",
       "  '3. low': '791.8500',\n",
       "  '4. close': '794.9000',\n",
       "  '5. volume': '508945'},\n",
       " '2025-05-16': {'1. open': '804.8000',\n",
       "  '2. high': '804.8000',\n",
       "  '3. low': '790.6000',\n",
       "  '4. close': '791.8500',\n",
       "  '5. volume': '645169'},\n",
       " '2025-05-15': {'1. open': '804.8500',\n",
       "  '2. high': '809.5000',\n",
       "  '3. low': '794.5500',\n",
       "  '4. close': '807.7000',\n",
       "  '5. volume': '904539'},\n",
       " '2025-05-14': {'1. open': '805.2500',\n",
       "  '2. high': '807.4500',\n",
       "  '3. low': '796.5000',\n",
       "  '4. close': '800.3500',\n",
       "  '5. volume': '1139114'},\n",
       " '2025-05-13': {'1. open': '800.4500',\n",
       "  '2. high': '807.7000',\n",
       "  '3. low': '797.2500',\n",
       "  '4. close': '801.9000',\n",
       "  '5. volume': '717454'},\n",
       " '2025-05-12': {'1. open': '799.8500',\n",
       "  '2. high': '803.9000',\n",
       "  '3. low': '793.1000',\n",
       "  '4. close': '801.6000',\n",
       "  '5. volume': '829415'},\n",
       " '2025-05-09': {'1. open': '755.2500',\n",
       "  '2. high': '781.4000',\n",
       "  '3. low': '755.2500',\n",
       "  '4. close': '779.4000',\n",
       "  '5. volume': '375997'},\n",
       " '2025-05-08': {'1. open': '778.0000',\n",
       "  '2. high': '786.5000',\n",
       "  '3. low': '765.0000',\n",
       "  '4. close': '768.7500',\n",
       "  '5. volume': '463248'},\n",
       " '2025-05-07': {'1. open': '762.2500',\n",
       "  '2. high': '782.5500',\n",
       "  '3. low': '762.2500',\n",
       "  '4. close': '776.1500',\n",
       "  '5. volume': '581175'},\n",
       " '2025-05-06': {'1. open': '792.2000',\n",
       "  '2. high': '799.0000',\n",
       "  '3. low': '771.1500',\n",
       "  '4. close': '774.1500',\n",
       "  '5. volume': '761282'},\n",
       " '2025-05-05': {'1. open': '784.9500',\n",
       "  '2. high': '799.1000',\n",
       "  '3. low': '783.6500',\n",
       "  '4. close': '790.0000',\n",
       "  '5. volume': '771587'},\n",
       " '2025-05-02': {'1. open': '792.0500',\n",
       "  '2. high': '802.9500',\n",
       "  '3. low': '789.2500',\n",
       "  '4. close': '800.0500',\n",
       "  '5. volume': '335006'},\n",
       " '2025-04-30': {'1. open': '812.8500',\n",
       "  '2. high': '812.8500',\n",
       "  '3. low': '784.4500',\n",
       "  '4. close': '788.1500',\n",
       "  '5. volume': '412886'},\n",
       " '2025-04-29': {'1. open': '820.0000',\n",
       "  '2. high': '829.0000',\n",
       "  '3. low': '808.7500',\n",
       "  '4. close': '811.7500',\n",
       "  '5. volume': '699284'},\n",
       " '2025-04-28': {'1. open': '796.3000',\n",
       "  '2. high': '822.5000',\n",
       "  '3. low': '796.3000',\n",
       "  '4. close': '817.6000',\n",
       "  '5. volume': '1068737'},\n",
       " '2025-04-25': {'1. open': '813.6000',\n",
       "  '2. high': '819.1000',\n",
       "  '3. low': '787.1000',\n",
       "  '4. close': '798.7500',\n",
       "  '5. volume': '383883'},\n",
       " '2025-04-24': {'1. open': '813.3000',\n",
       "  '2. high': '819.1500',\n",
       "  '3. low': '811.0000',\n",
       "  '4. close': '813.2000',\n",
       "  '5. volume': '506029'},\n",
       " '2025-04-23': {'1. open': '825.8500',\n",
       "  '2. high': '830.0000',\n",
       "  '3. low': '809.9500',\n",
       "  '4. close': '813.3000',\n",
       "  '5. volume': '1020589'},\n",
       " '2025-04-22': {'1. open': '821.2000',\n",
       "  '2. high': '835.4000',\n",
       "  '3. low': '813.8000',\n",
       "  '4. close': '822.4500',\n",
       "  '5. volume': '663396'},\n",
       " '2025-04-21': {'1. open': '803.0000',\n",
       "  '2. high': '824.2500',\n",
       "  '3. low': '801.6000',\n",
       "  '4. close': '816.6000',\n",
       "  '5. volume': '697505'},\n",
       " '2025-04-17': {'1. open': '771.1000',\n",
       "  '2. high': '801.0000',\n",
       "  '3. low': '767.2500',\n",
       "  '4. close': '797.1000',\n",
       "  '5. volume': '738676'},\n",
       " '2025-04-16': {'1. open': '764.0000',\n",
       "  '2. high': '774.5500',\n",
       "  '3. low': '760.4000',\n",
       "  '4. close': '771.7500',\n",
       "  '5. volume': '477621'},\n",
       " '2025-04-15': {'1. open': '768.0500',\n",
       "  '2. high': '770.6000',\n",
       "  '3. low': '757.6500',\n",
       "  '4. close': '763.3000',\n",
       "  '5. volume': '763643'},\n",
       " '2025-04-11': {'1. open': '759.9500',\n",
       "  '2. high': '759.9500',\n",
       "  '3. low': '746.1500',\n",
       "  '4. close': '754.0500',\n",
       "  '5. volume': '593599'},\n",
       " '2025-04-09': {'1. open': '768.8000',\n",
       "  '2. high': '769.0000',\n",
       "  '3. low': '740.7500',\n",
       "  '4. close': '742.0500',\n",
       "  '5. volume': '467660'},\n",
       " '2025-04-08': {'1. open': '757.0000',\n",
       "  '2. high': '774.1000',\n",
       "  '3. low': '757.0000',\n",
       "  '4. close': '768.4000',\n",
       "  '5. volume': '490787'},\n",
       " '2025-04-07': {'1. open': '732.3000',\n",
       "  '2. high': '752.9500',\n",
       "  '3. low': '730.9500',\n",
       "  '4. close': '746.7500',\n",
       "  '5. volume': '775236'},\n",
       " '2025-04-04': {'1. open': '779.2000',\n",
       "  '2. high': '782.2500',\n",
       "  '3. low': '765.0000',\n",
       "  '4. close': '767.8000',\n",
       "  '5. volume': '392420'},\n",
       " '2025-04-03': {'1. open': '770.0000',\n",
       "  '2. high': '784.8500',\n",
       "  '3. low': '770.0000',\n",
       "  '4. close': '779.2000',\n",
       "  '5. volume': '284146'},\n",
       " '2025-04-02': {'1. open': '772.0000',\n",
       "  '2. high': '776.8000',\n",
       "  '3. low': '764.3000',\n",
       "  '4. close': '775.8500',\n",
       "  '5. volume': '134131'},\n",
       " '2025-04-01': {'1. open': '767.9500',\n",
       "  '2. high': '782.5000',\n",
       "  '3. low': '763.0500',\n",
       "  '4. close': '771.5000',\n",
       "  '5. volume': '458492'},\n",
       " '2025-03-28': {'1. open': '770.7000',\n",
       "  '2. high': '778.4500',\n",
       "  '3. low': '768.0000',\n",
       "  '4. close': '771.6000',\n",
       "  '5. volume': '514260'},\n",
       " '2025-03-27': {'1. open': '762.7000',\n",
       "  '2. high': '775.0000',\n",
       "  '3. low': '760.7500',\n",
       "  '4. close': '772.4000',\n",
       "  '5. volume': '243074'},\n",
       " '2025-03-26': {'1. open': '770.3000',\n",
       "  '2. high': '775.9500',\n",
       "  '3. low': '761.8000',\n",
       "  '4. close': '763.3500',\n",
       "  '5. volume': '346155'},\n",
       " '2025-03-25': {'1. open': '784.4000',\n",
       "  '2. high': '786.0000',\n",
       "  '3. low': '769.6500',\n",
       "  '4. close': '773.0500',\n",
       "  '5. volume': '841085'},\n",
       " '2025-03-24': {'1. open': '758.5000',\n",
       "  '2. high': '783.1500',\n",
       "  '3. low': '755.0500',\n",
       "  '4. close': '781.4000',\n",
       "  '5. volume': '459986'},\n",
       " '2025-03-21': {'1. open': '749.1500',\n",
       "  '2. high': '755.4000',\n",
       "  '3. low': '747.2000',\n",
       "  '4. close': '753.0000',\n",
       "  '5. volume': '285630'},\n",
       " '2025-03-20': {'1. open': '749.9500',\n",
       "  '2. high': '752.8000',\n",
       "  '3. low': '744.2000',\n",
       "  '4. close': '749.2000',\n",
       "  '5. volume': '150865'},\n",
       " '2025-03-19': {'1. open': '739.9000',\n",
       "  '2. high': '749.0000',\n",
       "  '3. low': '739.2500',\n",
       "  '4. close': '745.0500',\n",
       "  '5. volume': '408821'},\n",
       " '2025-03-18': {'1. open': '727.0000',\n",
       "  '2. high': '738.5000',\n",
       "  '3. low': '723.0000',\n",
       "  '4. close': '737.0500',\n",
       "  '5. volume': '178857'},\n",
       " '2025-03-17': {'1. open': '729.0000',\n",
       "  '2. high': '730.9500',\n",
       "  '3. low': '722.1000',\n",
       "  '4. close': '722.7000',\n",
       "  '5. volume': '197841'},\n",
       " '2025-03-13': {'1. open': '726.9000',\n",
       "  '2. high': '731.4500',\n",
       "  '3. low': '724.3500',\n",
       "  '4. close': '727.7500',\n",
       "  '5. volume': '229142'},\n",
       " '2025-03-12': {'1. open': '729.9500',\n",
       "  '2. high': '736.5000',\n",
       "  '3. low': '719.2000',\n",
       "  '4. close': '722.9000',\n",
       "  '5. volume': '198814'},\n",
       " '2025-03-11': {'1. open': '724.9000',\n",
       "  '2. high': '733.9000',\n",
       "  '3. low': '722.5000',\n",
       "  '4. close': '729.9500',\n",
       "  '5. volume': '285624'},\n",
       " '2025-03-10': {'1. open': '732.9500',\n",
       "  '2. high': '738.4500',\n",
       "  '3. low': '727.0500',\n",
       "  '4. close': '728.3500',\n",
       "  '5. volume': '339175'},\n",
       " '2025-03-07': {'1. open': '732.9500',\n",
       "  '2. high': '734.9000',\n",
       "  '3. low': '727.9500',\n",
       "  '4. close': '732.7500',\n",
       "  '5. volume': '288192'},\n",
       " '2025-03-06': {'1. open': '737.9500',\n",
       "  '2. high': '737.9500',\n",
       "  '3. low': '727.1000',\n",
       "  '4. close': '731.9500',\n",
       "  '5. volume': '321519'},\n",
       " '2025-03-05': {'1. open': '718.8500',\n",
       "  '2. high': '731.0000',\n",
       "  '3. low': '717.8000',\n",
       "  '4. close': '730.2500',\n",
       "  '5. volume': '628448'},\n",
       " '2025-03-04': {'1. open': '693.4000',\n",
       "  '2. high': '718.1500',\n",
       "  '3. low': '692.1500',\n",
       "  '4. close': '716.1500',\n",
       "  '5. volume': '587355'},\n",
       " '2025-03-03': {'1. open': '692.2500',\n",
       "  '2. high': '696.8500',\n",
       "  '3. low': '679.6500',\n",
       "  '4. close': '695.1500',\n",
       "  '5. volume': '398676'},\n",
       " '2025-02-28': {'1. open': '701.8000',\n",
       "  '2. high': '701.8000',\n",
       "  '3. low': '682.8500',\n",
       "  '4. close': '688.2500',\n",
       "  '5. volume': '953162'},\n",
       " '2025-02-27': {'1. open': '716.9000',\n",
       "  '2. high': '716.9000',\n",
       "  '3. low': '701.0000',\n",
       "  '4. close': '703.9500',\n",
       "  '5. volume': '624622'},\n",
       " '2025-02-25': {'1. open': '719.0000',\n",
       "  '2. high': '719.0000',\n",
       "  '3. low': '709.9500',\n",
       "  '4. close': '711.0000',\n",
       "  '5. volume': '875612'},\n",
       " '2025-02-24': {'1. open': '712.6500',\n",
       "  '2. high': '719.8000',\n",
       "  '3. low': '710.9000',\n",
       "  '4. close': '716.4000',\n",
       "  '5. volume': '525944'},\n",
       " '2025-02-21': {'1. open': '729.2000',\n",
       "  '2. high': '732.0000',\n",
       "  '3. low': '720.0000',\n",
       "  '4. close': '721.5500',\n",
       "  '5. volume': '460425'},\n",
       " '2025-02-20': {'1. open': '727.8000',\n",
       "  '2. high': '731.8000',\n",
       "  '3. low': '723.0500',\n",
       "  '4. close': '729.6500',\n",
       "  '5. volume': '279931'},\n",
       " '2025-02-19': {'1. open': '722.8000',\n",
       "  '2. high': '734.7500',\n",
       "  '3. low': '722.1000',\n",
       "  '4. close': '726.8000',\n",
       "  '5. volume': '174597'},\n",
       " '2025-02-18': {'1. open': '727.9500',\n",
       "  '2. high': '727.9500',\n",
       "  '3. low': '717.4500',\n",
       "  '4. close': '725.7500',\n",
       "  '5. volume': '396321'}}"
      ]
     },
     "execution_count": 14,
     "metadata": {},
     "output_type": "execute_result"
    }
   ],
   "source": [
    "daily = sbi_data[\"Time Series (Daily)\"]\n",
    "daily"
   ]
  },
  {
   "cell_type": "code",
   "execution_count": 16,
   "id": "2f0467af",
   "metadata": {},
   "outputs": [
    {
     "data": {
      "text/html": [
       "<div>\n",
       "<style scoped>\n",
       "    .dataframe tbody tr th:only-of-type {\n",
       "        vertical-align: middle;\n",
       "    }\n",
       "\n",
       "    .dataframe tbody tr th {\n",
       "        vertical-align: top;\n",
       "    }\n",
       "\n",
       "    .dataframe thead th {\n",
       "        text-align: right;\n",
       "    }\n",
       "</style>\n",
       "<table border=\"1\" class=\"dataframe\">\n",
       "  <thead>\n",
       "    <tr style=\"text-align: right;\">\n",
       "      <th></th>\n",
       "      <th>1. open</th>\n",
       "      <th>2. high</th>\n",
       "      <th>3. low</th>\n",
       "      <th>4. close</th>\n",
       "      <th>5. volume</th>\n",
       "    </tr>\n",
       "  </thead>\n",
       "  <tbody>\n",
       "    <tr>\n",
       "      <th>2025-07-16</th>\n",
       "      <td>816.5000</td>\n",
       "      <td>834.0000</td>\n",
       "      <td>815.1500</td>\n",
       "      <td>831.5500</td>\n",
       "      <td>1238621</td>\n",
       "    </tr>\n",
       "    <tr>\n",
       "      <th>2025-07-15</th>\n",
       "      <td>810.2000</td>\n",
       "      <td>821.0000</td>\n",
       "      <td>810.2000</td>\n",
       "      <td>816.7500</td>\n",
       "      <td>460084</td>\n",
       "    </tr>\n",
       "    <tr>\n",
       "      <th>2025-07-14</th>\n",
       "      <td>810.4000</td>\n",
       "      <td>815.6000</td>\n",
       "      <td>808.0000</td>\n",
       "      <td>809.3000</td>\n",
       "      <td>435542</td>\n",
       "    </tr>\n",
       "    <tr>\n",
       "      <th>2025-07-11</th>\n",
       "      <td>808.0000</td>\n",
       "      <td>812.6000</td>\n",
       "      <td>804.5000</td>\n",
       "      <td>808.5000</td>\n",
       "      <td>227573</td>\n",
       "    </tr>\n",
       "    <tr>\n",
       "      <th>2025-07-10</th>\n",
       "      <td>812.0000</td>\n",
       "      <td>815.5000</td>\n",
       "      <td>807.0500</td>\n",
       "      <td>808.0000</td>\n",
       "      <td>174968</td>\n",
       "    </tr>\n",
       "    <tr>\n",
       "      <th>...</th>\n",
       "      <td>...</td>\n",
       "      <td>...</td>\n",
       "      <td>...</td>\n",
       "      <td>...</td>\n",
       "      <td>...</td>\n",
       "    </tr>\n",
       "    <tr>\n",
       "      <th>2025-02-24</th>\n",
       "      <td>712.6500</td>\n",
       "      <td>719.8000</td>\n",
       "      <td>710.9000</td>\n",
       "      <td>716.4000</td>\n",
       "      <td>525944</td>\n",
       "    </tr>\n",
       "    <tr>\n",
       "      <th>2025-02-21</th>\n",
       "      <td>729.2000</td>\n",
       "      <td>732.0000</td>\n",
       "      <td>720.0000</td>\n",
       "      <td>721.5500</td>\n",
       "      <td>460425</td>\n",
       "    </tr>\n",
       "    <tr>\n",
       "      <th>2025-02-20</th>\n",
       "      <td>727.8000</td>\n",
       "      <td>731.8000</td>\n",
       "      <td>723.0500</td>\n",
       "      <td>729.6500</td>\n",
       "      <td>279931</td>\n",
       "    </tr>\n",
       "    <tr>\n",
       "      <th>2025-02-19</th>\n",
       "      <td>722.8000</td>\n",
       "      <td>734.7500</td>\n",
       "      <td>722.1000</td>\n",
       "      <td>726.8000</td>\n",
       "      <td>174597</td>\n",
       "    </tr>\n",
       "    <tr>\n",
       "      <th>2025-02-18</th>\n",
       "      <td>727.9500</td>\n",
       "      <td>727.9500</td>\n",
       "      <td>717.4500</td>\n",
       "      <td>725.7500</td>\n",
       "      <td>396321</td>\n",
       "    </tr>\n",
       "  </tbody>\n",
       "</table>\n",
       "<p>100 rows × 5 columns</p>\n",
       "</div>"
      ],
      "text/plain": [
       "             1. open   2. high    3. low  4. close 5. volume\n",
       "2025-07-16  816.5000  834.0000  815.1500  831.5500   1238621\n",
       "2025-07-15  810.2000  821.0000  810.2000  816.7500    460084\n",
       "2025-07-14  810.4000  815.6000  808.0000  809.3000    435542\n",
       "2025-07-11  808.0000  812.6000  804.5000  808.5000    227573\n",
       "2025-07-10  812.0000  815.5000  807.0500  808.0000    174968\n",
       "...              ...       ...       ...       ...       ...\n",
       "2025-02-24  712.6500  719.8000  710.9000  716.4000    525944\n",
       "2025-02-21  729.2000  732.0000  720.0000  721.5500    460425\n",
       "2025-02-20  727.8000  731.8000  723.0500  729.6500    279931\n",
       "2025-02-19  722.8000  734.7500  722.1000  726.8000    174597\n",
       "2025-02-18  727.9500  727.9500  717.4500  725.7500    396321\n",
       "\n",
       "[100 rows x 5 columns]"
      ]
     },
     "execution_count": 16,
     "metadata": {},
     "output_type": "execute_result"
    }
   ],
   "source": [
    "daily_df = pd.DataFrame(daily).T\n",
    "daily_df"
   ]
  },
  {
   "cell_type": "code",
   "execution_count": 19,
   "id": "09fffc4c",
   "metadata": {},
   "outputs": [
    {
     "data": {
      "text/plain": [
       "1. open      object\n",
       "2. high      object\n",
       "3. low       object\n",
       "4. close     object\n",
       "5. volume    object\n",
       "dtype: object"
      ]
     },
     "execution_count": 19,
     "metadata": {},
     "output_type": "execute_result"
    }
   ],
   "source": [
    "daily_df.dtypes"
   ]
  },
  {
   "cell_type": "code",
   "execution_count": 20,
   "id": "014a9e5b",
   "metadata": {},
   "outputs": [],
   "source": [
    "daily_df = daily_df.astype(float)"
   ]
  },
  {
   "cell_type": "code",
   "execution_count": 21,
   "id": "1298d005",
   "metadata": {},
   "outputs": [
    {
     "data": {
      "text/plain": [
       "1. open      float64\n",
       "2. high      float64\n",
       "3. low       float64\n",
       "4. close     float64\n",
       "5. volume    float64\n",
       "dtype: object"
      ]
     },
     "execution_count": 21,
     "metadata": {},
     "output_type": "execute_result"
    }
   ],
   "source": [
    "daily_df.dtypes"
   ]
  },
  {
   "cell_type": "code",
   "execution_count": 23,
   "id": "828cf293",
   "metadata": {},
   "outputs": [
    {
     "data": {
      "text/plain": [
       "Index(['2025-07-16', '2025-07-15', '2025-07-14', '2025-07-11', '2025-07-10',\n",
       "       '2025-07-09', '2025-07-08', '2025-07-07', '2025-07-04', '2025-07-03',\n",
       "       '2025-07-02', '2025-07-01', '2025-06-30', '2025-06-27', '2025-06-26',\n",
       "       '2025-06-25', '2025-06-24', '2025-06-23', '2025-06-20', '2025-06-19',\n",
       "       '2025-06-18', '2025-06-17', '2025-06-16', '2025-06-13', '2025-06-12',\n",
       "       '2025-06-11', '2025-06-10', '2025-06-09', '2025-06-06', '2025-06-05',\n",
       "       '2025-06-04', '2025-06-03', '2025-06-02', '2025-05-30', '2025-05-29',\n",
       "       '2025-05-28', '2025-05-27', '2025-05-26', '2025-05-23', '2025-05-22',\n",
       "       '2025-05-21', '2025-05-20', '2025-05-19', '2025-05-16', '2025-05-15',\n",
       "       '2025-05-14', '2025-05-13', '2025-05-12', '2025-05-09', '2025-05-08',\n",
       "       '2025-05-07', '2025-05-06', '2025-05-05', '2025-05-02', '2025-04-30',\n",
       "       '2025-04-29', '2025-04-28', '2025-04-25', '2025-04-24', '2025-04-23',\n",
       "       '2025-04-22', '2025-04-21', '2025-04-17', '2025-04-16', '2025-04-15',\n",
       "       '2025-04-11', '2025-04-09', '2025-04-08', '2025-04-07', '2025-04-04',\n",
       "       '2025-04-03', '2025-04-02', '2025-04-01', '2025-03-28', '2025-03-27',\n",
       "       '2025-03-26', '2025-03-25', '2025-03-24', '2025-03-21', '2025-03-20',\n",
       "       '2025-03-19', '2025-03-18', '2025-03-17', '2025-03-13', '2025-03-12',\n",
       "       '2025-03-11', '2025-03-10', '2025-03-07', '2025-03-06', '2025-03-05',\n",
       "       '2025-03-04', '2025-03-03', '2025-02-28', '2025-02-27', '2025-02-25',\n",
       "       '2025-02-24', '2025-02-21', '2025-02-20', '2025-02-19', '2025-02-18'],\n",
       "      dtype='object')"
      ]
     },
     "execution_count": 23,
     "metadata": {},
     "output_type": "execute_result"
    }
   ],
   "source": [
    "daily_df.index"
   ]
  },
  {
   "cell_type": "code",
   "execution_count": 26,
   "id": "b5ce7b21",
   "metadata": {},
   "outputs": [],
   "source": [
    "daily_df.index = pd.to_datetime(daily_df.index)"
   ]
  },
  {
   "cell_type": "code",
   "execution_count": 27,
   "id": "320f1338",
   "metadata": {},
   "outputs": [
    {
     "data": {
      "text/html": [
       "<div>\n",
       "<style scoped>\n",
       "    .dataframe tbody tr th:only-of-type {\n",
       "        vertical-align: middle;\n",
       "    }\n",
       "\n",
       "    .dataframe tbody tr th {\n",
       "        vertical-align: top;\n",
       "    }\n",
       "\n",
       "    .dataframe thead th {\n",
       "        text-align: right;\n",
       "    }\n",
       "</style>\n",
       "<table border=\"1\" class=\"dataframe\">\n",
       "  <thead>\n",
       "    <tr style=\"text-align: right;\">\n",
       "      <th></th>\n",
       "      <th>1. open</th>\n",
       "      <th>2. high</th>\n",
       "      <th>3. low</th>\n",
       "      <th>4. close</th>\n",
       "      <th>5. volume</th>\n",
       "    </tr>\n",
       "  </thead>\n",
       "  <tbody>\n",
       "    <tr>\n",
       "      <th>2025-07-16</th>\n",
       "      <td>816.50</td>\n",
       "      <td>834.00</td>\n",
       "      <td>815.15</td>\n",
       "      <td>831.55</td>\n",
       "      <td>1238621.0</td>\n",
       "    </tr>\n",
       "    <tr>\n",
       "      <th>2025-07-15</th>\n",
       "      <td>810.20</td>\n",
       "      <td>821.00</td>\n",
       "      <td>810.20</td>\n",
       "      <td>816.75</td>\n",
       "      <td>460084.0</td>\n",
       "    </tr>\n",
       "    <tr>\n",
       "      <th>2025-07-14</th>\n",
       "      <td>810.40</td>\n",
       "      <td>815.60</td>\n",
       "      <td>808.00</td>\n",
       "      <td>809.30</td>\n",
       "      <td>435542.0</td>\n",
       "    </tr>\n",
       "    <tr>\n",
       "      <th>2025-07-11</th>\n",
       "      <td>808.00</td>\n",
       "      <td>812.60</td>\n",
       "      <td>804.50</td>\n",
       "      <td>808.50</td>\n",
       "      <td>227573.0</td>\n",
       "    </tr>\n",
       "    <tr>\n",
       "      <th>2025-07-10</th>\n",
       "      <td>812.00</td>\n",
       "      <td>815.50</td>\n",
       "      <td>807.05</td>\n",
       "      <td>808.00</td>\n",
       "      <td>174968.0</td>\n",
       "    </tr>\n",
       "    <tr>\n",
       "      <th>...</th>\n",
       "      <td>...</td>\n",
       "      <td>...</td>\n",
       "      <td>...</td>\n",
       "      <td>...</td>\n",
       "      <td>...</td>\n",
       "    </tr>\n",
       "    <tr>\n",
       "      <th>2025-02-24</th>\n",
       "      <td>712.65</td>\n",
       "      <td>719.80</td>\n",
       "      <td>710.90</td>\n",
       "      <td>716.40</td>\n",
       "      <td>525944.0</td>\n",
       "    </tr>\n",
       "    <tr>\n",
       "      <th>2025-02-21</th>\n",
       "      <td>729.20</td>\n",
       "      <td>732.00</td>\n",
       "      <td>720.00</td>\n",
       "      <td>721.55</td>\n",
       "      <td>460425.0</td>\n",
       "    </tr>\n",
       "    <tr>\n",
       "      <th>2025-02-20</th>\n",
       "      <td>727.80</td>\n",
       "      <td>731.80</td>\n",
       "      <td>723.05</td>\n",
       "      <td>729.65</td>\n",
       "      <td>279931.0</td>\n",
       "    </tr>\n",
       "    <tr>\n",
       "      <th>2025-02-19</th>\n",
       "      <td>722.80</td>\n",
       "      <td>734.75</td>\n",
       "      <td>722.10</td>\n",
       "      <td>726.80</td>\n",
       "      <td>174597.0</td>\n",
       "    </tr>\n",
       "    <tr>\n",
       "      <th>2025-02-18</th>\n",
       "      <td>727.95</td>\n",
       "      <td>727.95</td>\n",
       "      <td>717.45</td>\n",
       "      <td>725.75</td>\n",
       "      <td>396321.0</td>\n",
       "    </tr>\n",
       "  </tbody>\n",
       "</table>\n",
       "<p>100 rows × 5 columns</p>\n",
       "</div>"
      ],
      "text/plain": [
       "            1. open  2. high  3. low  4. close  5. volume\n",
       "2025-07-16   816.50   834.00  815.15    831.55  1238621.0\n",
       "2025-07-15   810.20   821.00  810.20    816.75   460084.0\n",
       "2025-07-14   810.40   815.60  808.00    809.30   435542.0\n",
       "2025-07-11   808.00   812.60  804.50    808.50   227573.0\n",
       "2025-07-10   812.00   815.50  807.05    808.00   174968.0\n",
       "...             ...      ...     ...       ...        ...\n",
       "2025-02-24   712.65   719.80  710.90    716.40   525944.0\n",
       "2025-02-21   729.20   732.00  720.00    721.55   460425.0\n",
       "2025-02-20   727.80   731.80  723.05    729.65   279931.0\n",
       "2025-02-19   722.80   734.75  722.10    726.80   174597.0\n",
       "2025-02-18   727.95   727.95  717.45    725.75   396321.0\n",
       "\n",
       "[100 rows x 5 columns]"
      ]
     },
     "execution_count": 27,
     "metadata": {},
     "output_type": "execute_result"
    }
   ],
   "source": [
    "daily_df"
   ]
  },
  {
   "cell_type": "code",
   "execution_count": 30,
   "id": "46e755d1",
   "metadata": {},
   "outputs": [],
   "source": [
    "daily_df.index.name = \"Date\""
   ]
  },
  {
   "cell_type": "code",
   "execution_count": 31,
   "id": "d49bcf80",
   "metadata": {},
   "outputs": [
    {
     "data": {
      "text/html": [
       "<div>\n",
       "<style scoped>\n",
       "    .dataframe tbody tr th:only-of-type {\n",
       "        vertical-align: middle;\n",
       "    }\n",
       "\n",
       "    .dataframe tbody tr th {\n",
       "        vertical-align: top;\n",
       "    }\n",
       "\n",
       "    .dataframe thead th {\n",
       "        text-align: right;\n",
       "    }\n",
       "</style>\n",
       "<table border=\"1\" class=\"dataframe\">\n",
       "  <thead>\n",
       "    <tr style=\"text-align: right;\">\n",
       "      <th></th>\n",
       "      <th>1. open</th>\n",
       "      <th>2. high</th>\n",
       "      <th>3. low</th>\n",
       "      <th>4. close</th>\n",
       "      <th>5. volume</th>\n",
       "    </tr>\n",
       "    <tr>\n",
       "      <th>Date</th>\n",
       "      <th></th>\n",
       "      <th></th>\n",
       "      <th></th>\n",
       "      <th></th>\n",
       "      <th></th>\n",
       "    </tr>\n",
       "  </thead>\n",
       "  <tbody>\n",
       "    <tr>\n",
       "      <th>2025-07-16</th>\n",
       "      <td>816.5</td>\n",
       "      <td>834.0</td>\n",
       "      <td>815.15</td>\n",
       "      <td>831.55</td>\n",
       "      <td>1238621.0</td>\n",
       "    </tr>\n",
       "    <tr>\n",
       "      <th>2025-07-15</th>\n",
       "      <td>810.2</td>\n",
       "      <td>821.0</td>\n",
       "      <td>810.20</td>\n",
       "      <td>816.75</td>\n",
       "      <td>460084.0</td>\n",
       "    </tr>\n",
       "    <tr>\n",
       "      <th>2025-07-14</th>\n",
       "      <td>810.4</td>\n",
       "      <td>815.6</td>\n",
       "      <td>808.00</td>\n",
       "      <td>809.30</td>\n",
       "      <td>435542.0</td>\n",
       "    </tr>\n",
       "    <tr>\n",
       "      <th>2025-07-11</th>\n",
       "      <td>808.0</td>\n",
       "      <td>812.6</td>\n",
       "      <td>804.50</td>\n",
       "      <td>808.50</td>\n",
       "      <td>227573.0</td>\n",
       "    </tr>\n",
       "    <tr>\n",
       "      <th>2025-07-10</th>\n",
       "      <td>812.0</td>\n",
       "      <td>815.5</td>\n",
       "      <td>807.05</td>\n",
       "      <td>808.00</td>\n",
       "      <td>174968.0</td>\n",
       "    </tr>\n",
       "  </tbody>\n",
       "</table>\n",
       "</div>"
      ],
      "text/plain": [
       "            1. open  2. high  3. low  4. close  5. volume\n",
       "Date                                                     \n",
       "2025-07-16    816.5    834.0  815.15    831.55  1238621.0\n",
       "2025-07-15    810.2    821.0  810.20    816.75   460084.0\n",
       "2025-07-14    810.4    815.6  808.00    809.30   435542.0\n",
       "2025-07-11    808.0    812.6  804.50    808.50   227573.0\n",
       "2025-07-10    812.0    815.5  807.05    808.00   174968.0"
      ]
     },
     "execution_count": 31,
     "metadata": {},
     "output_type": "execute_result"
    }
   ],
   "source": [
    "daily_df.head()"
   ]
  },
  {
   "cell_type": "code",
   "execution_count": 32,
   "id": "10e90db5",
   "metadata": {},
   "outputs": [],
   "source": [
    "daily_df.to_csv(\"SBIN.csv\")"
   ]
  },
  {
   "cell_type": "markdown",
   "id": "f6c22795",
   "metadata": {},
   "source": [
    "# Plot candlestick chart"
   ]
  },
  {
   "attachments": {
    "image.png": {
     "image/png": "[encoded data removed]"
    }
   },
   "cell_type": "markdown",
   "id": "4be6e72b",
   "metadata": {},
   "source": [
    "![image.png](attachment:image.png)"
   ]
  },
  {
   "cell_type": "code",
   "execution_count": 33,
   "id": "4bba9971",
   "metadata": {},
   "outputs": [],
   "source": [
    "import plotly.graph_objects as go"
   ]
  },
  {
   "cell_type": "code",
   "execution_count": 35,
   "id": "cd17f04c",
   "metadata": {},
   "outputs": [
    {
     "data": {
      "application/vnd.plotly.v1+json": {
       "config": {
        "plotlyServerURL": "https://plot.ly"
       },
       "data": [
        {
         "close": {
          "bdata": "ZmZmZmb8iUAAAAAAAIaJQGZmZmZmSolAAAAAAABEiUAAAAAAAECJQM3MzMzMVolAZmZmZmZmiUCamZmZmTeJQM3MzMzMXolAzczMzMw4iUCamZmZmWmJQAAAAAAAoolAzczMzMyiiUAzMzMzMyuJQAAAAAAA6IhAzczMzMwAiUAAAAAAANqIQDMzMzMzsYhAAAAAAADgiECamZmZmYWIQAAAAAAAvohAmpmZmZnBiEDNzMzMzMaIQDMzMzMzw4hAMzMzMzMtiUCamZmZmXeJQGZmZmZmiIlAZmZmZmagiUDNzMzMzGaJQM3MzMzMMIlAmpmZmZkziUAAAAAAAE6JQJqZmZmZa4lAMzMzMzNjiUBmZmZmZuqIQJqZmZmZ44hAZmZmZmbOiEDNzMzMzNKIQJqZmZmZs4hAzczMzMyKiECamZmZmZmIQM3MzMzMiohAMzMzMzPXiEDNzMzMzL6IQJqZmZmZPYlAzczMzMwCiUAzMzMzMw+JQM3MzMzMDIlAMzMzMzNbiEAAAAAAAAaIQDMzMzMzQYhAMzMzMzMxiEAAAAAAALCIQGZmZmZmAIlAMzMzMzOhiEAAAAAAAF6JQM3MzMzMjIlAAAAAAAD2iECamZmZmWmJQGZmZmZmaolAmpmZmZmziUDNzMzMzISJQM3MzMzM6IhAAAAAAAAeiEBmZmZmZtqHQGZmZmZmkIdAZmZmZmYwh0AzMzMzMwOIQAAAAAAAVodAZmZmZmb+h0CamZmZmVmIQM3MzMzMPohAAAAAAAAciEDNzMzMzByIQDMzMzMzI4hAzczMzMzah0BmZmZmZiiIQDMzMzMza4hAAAAAAACIh0CamZmZmWmHQGZmZmZmSIdAZmZmZmYIh0CamZmZmZWGQAAAAAAAvoZAMzMzMzOXhkCamZmZmc+GQM3MzMzMwoZAAAAAAADmhkCamZmZmd+GQAAAAAAA0oZAMzMzMzNhhkAzMzMzM7mFQAAAAAAAgoVAmpmZmZn/hUAAAAAAADiGQDMzMzMzY4ZAZmZmZmaMhkAzMzMzM82GQGZmZmZmtoZAAAAAAACuhkA=",
          "dtype": "f8"
         },
         "high": {
          "bdata": "AAAAAAAQikAAAAAAAKiJQM3MzMzMfIlAzczMzMxkiUAAAAAAAHyJQAAAAAAAYolAzczMzMxuiUBmZmZmZmaJQAAAAAAAbIlAAAAAAAB4iUDNzMzMzMKJQJqZmZmZx4lAAAAAAACoiUAAAAAAAEyJQJqZmZmZG4lAAAAAAAAoiUAAAAAAADSJQM3MzMzM1IhAzczMzMz4iECamZmZmcmIQAAAAAAA3IhAZmZmZmb2iEDNzMzMzNqIQJqZmZmZ4YhAZmZmZmaEiUDNzMzMzKSJQJqZmZmZr4lAMzMzMzPDiUCamZmZmYOJQDMzMzMzX4lAmpmZmZl/iUCamZmZmY+JQAAAAAAAtIlAzczMzMxyiUAAAAAAAACJQM3MzMzM9ohAMzMzMzMJiUBmZmZmZuyIQGZmZmZm1ohAMzMzMzOniECamZmZmbWIQDMzMzMz/YhAzczMzMwKiUBmZmZmZiaJQAAAAAAATIlAmpmZmZk7iUCamZmZmT2JQDMzMzMzH4lAMzMzMzNriEAAAAAAAJSIQGZmZmZmdIhAAAAAAAD4iEDNzMzMzPiIQJqZmZmZF4lAzczMzMxmiUAAAAAAAOiJQAAAAAAAtIlAzczMzMyYiUAzMzMzM5mJQAAAAAAA8IlAMzMzMzMbikAAAAAAAMKJQAAAAAAACIlAZmZmZmY0iEDNzMzMzBSIQJqZmZmZv4dAAAAAAAAIiEDNzMzMzDCIQJqZmZmZh4dAAAAAAAByiEDNzMzMzIaIQGZmZmZmRohAAAAAAAB0iECamZmZmVOIQAAAAAAAOIhAmpmZmZk/iEAAAAAAAJCIQDMzMzMzeYhAMzMzMzObh0BmZmZmZoaHQAAAAAAAaIdAAAAAAAAUh0CamZmZmdeGQJqZmZmZ24ZAAAAAAAAEh0AzMzMzM++GQJqZmZmZE4dAMzMzMzP3hkCamZmZmQ+HQAAAAAAA2IZAMzMzMzNxhkDNzMzMzMaFQGZmZmZm7oVAMzMzMzNnhkAAAAAAAHiGQGZmZmZmfoZAAAAAAADghkBmZmZmZt6GQAAAAAAA9oZAmpmZmZm/hkA=",
          "dtype": "f8"
         },
         "low": {
          "bdata": "MzMzMzN5iUCamZmZmVGJQAAAAAAAQIlAAAAAAAAkiUBmZmZmZjiJQM3MzMzMSIlAAAAAAAAsiUCamZmZmSmJQJqZmZmZIYlAAAAAAAAwiUDNzMzMzEiJQAAAAAAAaolAZmZmZmY4iUAzMzMzMxOJQAAAAAAAvIhAzczMzMzgiEDNzMzMzMyIQJqZmZmZo4hAZmZmZmaSiEAAAAAAAGyIQM3MzMzMoohAAAAAAAC2iEDNzMzMzJKIQDMzMzMzp4hAAAAAAAAKiUAzMzMzM2eJQDMzMzMzdYlAzczMzMx8iUAzMzMzMxeJQAAAAAAAGIlAAAAAAAAoiUCamZmZmSmJQM3MzMzMSIlAAAAAAADGiEAzMzMzM7uIQDMzMzMzx4hAAAAAAACuiEBmZmZmZqqIQDMzMzMzk4hAzczMzMxkiEAzMzMzM1uIQAAAAAAAgIhAzczMzMy+iEDNzMzMzLSIQGZmZmZm1IhAAAAAAADkiEAAAAAAAOqIQM3MzMzMyIhAAAAAAACah0AAAAAAAOiHQAAAAAAA0odAMzMzMzMZiEAzMzMzM32IQAAAAAAAqohAmpmZmZmDiEAAAAAAAEaJQGZmZmZm4ohAzczMzMyYiEAAAAAAAFiJQJqZmZmZT4lAZmZmZmZuiUDNzMzMzAyJQAAAAAAA+odAMzMzMzPDh0AzMzMzM62HQDMzMzMzUYdAAAAAAAAmh0AAAAAAAKiHQJqZmZmZ14ZAAAAAAADoh0AAAAAAABCIQGZmZmZm4odAZmZmZmbYh0AAAAAAAACIQAAAAAAAxodAZmZmZmbOh0AzMzMzMw2IQGZmZmZmmIdAmpmZmZlZh0CamZmZmUGHQAAAAAAAGodAAAAAAACYhkDNzMzMzJCGQM3MzMzMooZAmpmZmZl5hkAAAAAAAJSGQGZmZmZmuIZAmpmZmZm/hkDNzMzMzLiGQGZmZmZmboZAMzMzMzOhhUAzMzMzMz2FQM3MzMzMVoVAAAAAAADohUCamZmZmS+GQDMzMzMzN4ZAAAAAAACAhkBmZmZmZpiGQM3MzMzMkIZAmpmZmZlrhkA=",
          "dtype": "f8"
         },
         "open": {
          "bdata": "AAAAAACEiUCamZmZmVGJQDMzMzMzU4lAAAAAAABAiUAAAAAAAGCJQAAAAAAAUIlAmpmZmZlHiUBmZmZmZmaJQAAAAAAAUolAAAAAAABoiUCamZmZmaWJQM3MzMzMoolAmpmZmZlHiUAAAAAAADCJQJqZmZmZFYlAAAAAAAD4iEAAAAAAAPSIQJqZmZmZsYhAmpmZmZmfiEDNzMzMzMaIQM3MzMzMwIhAAAAAAADMiEBmZmZmZsSIQAAAAAAArohAAAAAAACAiUBmZmZmZoiJQJqZmZmZr4lAzczMzMyIiUDNzMzMzDCJQAAAAAAASIlAzczMzMx4iUAzMzMzM4eJQM3MzMzMYIlAzczMzMzqiEDNzMzMzOiIQAAAAAAA0IhAMzMzMzPRiECamZmZmbuIQJqZmZmZmYhAMzMzMzOniEAAAAAAAJSIQAAAAAAA8ohAmpmZmZnHiEBmZmZmZiaJQM3MzMzMJolAAAAAAAAqiUCamZmZmQOJQM3MzMzM/ohAAAAAAACah0AAAAAAAFCIQAAAAAAA0odAmpmZmZnBiECamZmZmYeIQGZmZmZmwIhAzczMzMxmiUAAAAAAAKCJQGZmZmZm4ohAzczMzMxsiUBmZmZmZmqJQM3MzMzMzolAmpmZmZmpiUAAAAAAABiJQM3MzMzMGIhAAAAAAADgh0BmZmZmZgCIQJqZmZmZv4dAZmZmZmYGiEAAAAAAAKiHQGZmZmZm4oZAmpmZmZlZiEAAAAAAABCIQAAAAAAAIIhAmpmZmZn/h0CamZmZmRWIQJqZmZmZ1YdAZmZmZmYSiEAzMzMzM4OIQAAAAAAAtIdAMzMzMzNph0CamZmZmW+HQDMzMzMzH4dAAAAAAAC4hkAAAAAAAMiGQDMzMzMzt4ZAmpmZmZnPhkAzMzMzM6eGQJqZmZmZ54ZAmpmZmZnnhkCamZmZmQ+HQM3MzMzMdoZAMzMzMzOrhUAAAAAAAKKFQGZmZmZm7oVAMzMzMzNnhkAAAAAAAHiGQDMzMzMzRYZAmpmZmZnJhkBmZmZmZr6GQGZmZmZmloZAmpmZmZm/hkA=",
          "dtype": "f8"
         },
         "type": "candlestick",
         "x": [
          "2025-07-16T00:00:00.000000000",
          "2025-07-15T00:00:00.000000000",
          "2025-07-14T00:00:00.000000000",
          "2025-07-11T00:00:00.000000000",
          "2025-07-10T00:00:00.000000000",
          "2025-07-09T00:00:00.000000000",
          "2025-07-08T00:00:00.000000000",
          "2025-07-07T00:00:00.000000000",
          "2025-07-04T00:00:00.000000000",
          "2025-07-03T00:00:00.000000000",
          "2025-07-02T00:00:00.000000000",
          "2025-07-01T00:00:00.000000000",
          "2025-06-30T00:00:00.000000000",
          "2025-06-27T00:00:00.000000000",
          "2025-06-26T00:00:00.000000000",
          "2025-06-25T00:00:00.000000000",
          "2025-06-24T00:00:00.000000000",
          "2025-06-23T00:00:00.000000000",
          "2025-06-20T00:00:00.000000000",
          "2025-06-19T00:00:00.000000000",
          "2025-06-18T00:00:00.000000000",
          "2025-06-17T00:00:00.000000000",
          "2025-06-16T00:00:00.000000000",
          "2025-06-13T00:00:00.000000000",
          "2025-06-12T00:00:00.000000000",
          "2025-06-11T00:00:00.000000000",
          "2025-06-10T00:00:00.000000000",
          "2025-06-09T00:00:00.000000000",
          "2025-06-06T00:00:00.000000000",
          "2025-06-05T00:00:00.000000000",
          "2025-06-04T00:00:00.000000000",
          "2025-06-03T00:00:00.000000000",
          "2025-06-02T00:00:00.000000000",
          "2025-05-30T00:00:00.000000000",
          "2025-05-29T00:00:00.000000000",
          "2025-05-28T00:00:00.000000000",
          "2025-05-27T00:00:00.000000000",
          "2025-05-26T00:00:00.000000000",
          "2025-05-23T00:00:00.000000000",
          "2025-05-22T00:00:00.000000000",
          "2025-05-21T00:00:00.000000000",
          "2025-05-20T00:00:00.000000000",
          "2025-05-19T00:00:00.000000000",
          "2025-05-16T00:00:00.000000000",
          "2025-05-15T00:00:00.000000000",
          "2025-05-14T00:00:00.000000000",
          "2025-05-13T00:00:00.000000000",
          "2025-05-12T00:00:00.000000000",
          "2025-05-09T00:00:00.000000000",
          "2025-05-08T00:00:00.000000000",
          "2025-05-07T00:00:00.000000000",
          "2025-05-06T00:00:00.000000000",
          "2025-05-05T00:00:00.000000000",
          "2025-05-02T00:00:00.000000000",
          "2025-04-30T00:00:00.000000000",
          "2025-04-29T00:00:00.000000000",
          "2025-04-28T00:00:00.000000000",
          "2025-04-25T00:00:00.000000000",
          "2025-04-24T00:00:00.000000000",
          "2025-04-23T00:00:00.000000000",
          "2025-04-22T00:00:00.000000000",
          "2025-04-21T00:00:00.000000000",
          "2025-04-17T00:00:00.000000000",
          "2025-04-16T00:00:00.000000000",
          "2025-04-15T00:00:00.000000000",
          "2025-04-11T00:00:00.000000000",
          "2025-04-09T00:00:00.000000000",
          "2025-04-08T00:00:00.000000000",
          "2025-04-07T00:00:00.000000000",
          "2025-04-04T00:00:00.000000000",
          "2025-04-03T00:00:00.000000000",
          "2025-04-02T00:00:00.000000000",
          "2025-04-01T00:00:00.000000000",
          "2025-03-28T00:00:00.000000000",
          "2025-03-27T00:00:00.000000000",
          "2025-03-26T00:00:00.000000000",
          "2025-03-25T00:00:00.000000000",
          "2025-03-24T00:00:00.000000000",
          "2025-03-21T00:00:00.000000000",
          "2025-03-20T00:00:00.000000000",
          "2025-03-19T00:00:00.000000000",
          "2025-03-18T00:00:00.000000000",
          "2025-03-17T00:00:00.000000000",
          "2025-03-13T00:00:00.000000000",
          "2025-03-12T00:00:00.000000000",
          "2025-03-11T00:00:00.000000000",
          "2025-03-10T00:00:00.000000000",
          "2025-03-07T00:00:00.000000000",
          "2025-03-06T00:00:00.000000000",
          "2025-03-05T00:00:00.000000000",
          "2025-03-04T00:00:00.000000000",
          "2025-03-03T00:00:00.000000000",
          "2025-02-28T00:00:00.000000000",
          "2025-02-27T00:00:00.000000000",
          "2025-02-25T00:00:00.000000000",
          "2025-02-24T00:00:00.000000000",
          "2025-02-21T00:00:00.000000000",
          "2025-02-20T00:00:00.000000000",
          "2025-02-19T00:00:00.000000000",
          "2025-02-18T00:00:00.000000000"
         ]
        }
       ],
       "layout": {
        "height": 800,
        "template": {
         "data": {
          "candlestick": [
           {
            "decreasing": {
             "line": {
              "color": "#000033"
             }
            },
            "increasing": {
             "line": {
              "color": "#000032"
             }
            },
            "type": "candlestick"
           }
          ],
          "contour": [
           {
            "colorscale": [
             [
              0,
              "#000011"
             ],
             [
              0.1111111111111111,
              "#000012"
             ],
             [
              0.2222222222222222,
              "#000013"
             ],
             [
              0.3333333333333333,
              "#000014"
             ],
             [
              0.4444444444444444,
              "#000015"
             ],
             [
              0.5555555555555556,
              "#000016"
             ],
             [
              0.6666666666666666,
              "#000017"
             ],
             [
              0.7777777777777778,
              "#000018"
             ],
             [
              0.8888888888888888,
              "#000019"
             ],
             [
              1,
              "#000020"
             ]
            ],
            "type": "contour"
           }
          ],
          "contourcarpet": [
           {
            "colorscale": [
             [
              0,
              "#000011"
             ],
             [
              0.1111111111111111,
              "#000012"
             ],
             [
              0.2222222222222222,
              "#000013"
             ],
             [
              0.3333333333333333,
              "#000014"
             ],
             [
              0.4444444444444444,
              "#000015"
             ],
             [
              0.5555555555555556,
              "#000016"
             ],
             [
              0.6666666666666666,
              "#000017"
             ],
             [
              0.7777777777777778,
              "#000018"
             ],
             [
              0.8888888888888888,
              "#000019"
             ],
             [
              1,
              "#000020"
             ]
            ],
            "type": "contourcarpet"
           }
          ],
          "heatmap": [
           {
            "colorscale": [
             [
              0,
              "#000011"
             ],
             [
              0.1111111111111111,
              "#000012"
             ],
             [
              0.2222222222222222,
              "#000013"
             ],
             [
              0.3333333333333333,
              "#000014"
             ],
             [
              0.4444444444444444,
              "#000015"
             ],
             [
              0.5555555555555556,
              "#000016"
             ],
             [
              0.6666666666666666,
              "#000017"
             ],
             [
              0.7777777777777778,
              "#000018"
             ],
             [
              0.8888888888888888,
              "#000019"
             ],
             [
              1,
              "#000020"
             ]
            ],
            "type": "heatmap"
           }
          ],
          "histogram2d": [
           {
            "colorscale": [
             [
              0,
              "#000011"
             ],
             [
              0.1111111111111111,
              "#000012"
             ],
             [
              0.2222222222222222,
              "#000013"
             ],
             [
              0.3333333333333333,
              "#000014"
             ],
             [
              0.4444444444444444,
              "#000015"
             ],
             [
              0.5555555555555556,
              "#000016"
             ],
             [
              0.6666666666666666,
              "#000017"
             ],
             [
              0.7777777777777778,
              "#000018"
             ],
             [
              0.8888888888888888,
              "#000019"
             ],
             [
              1,
              "#000020"
             ]
            ],
            "type": "histogram2d"
           }
          ],
          "icicle": [
           {
            "textfont": {
             "color": "white"
            },
            "type": "icicle"
           }
          ],
          "sankey": [
           {
            "textfont": {
             "color": "#000036"
            },
            "type": "sankey"
           }
          ],
          "scatter": [
           {
            "marker": {
             "line": {
              "width": 0
             }
            },
            "type": "scatter"
           }
          ],
          "table": [
           {
            "cells": {
             "fill": {
              "color": "#000038"
             },
             "font": {
              "color": "#000037"
             },
             "line": {
              "color": "#000039"
             }
            },
            "header": {
             "fill": {
              "color": "#000040"
             },
             "font": {
              "color": "#000036"
             },
             "line": {
              "color": "#000039"
             }
            },
            "type": "table"
           }
          ],
          "waterfall": [
           {
            "connector": {
             "line": {
              "color": "#000036",
              "width": 2
             }
            },
            "decreasing": {
             "marker": {
              "color": "#000033"
             }
            },
            "increasing": {
             "marker": {
              "color": "#000032"
             }
            },
            "totals": {
             "marker": {
              "color": "#000034"
             }
            },
            "type": "waterfall"
           }
          ]
         },
         "layout": {
          "coloraxis": {
           "colorscale": [
            [
             0,
             "#000011"
            ],
            [
             0.1111111111111111,
             "#000012"
            ],
            [
             0.2222222222222222,
             "#000013"
            ],
            [
             0.3333333333333333,
             "#000014"
            ],
            [
             0.4444444444444444,
             "#000015"
            ],
            [
             0.5555555555555556,
             "#000016"
            ],
            [
             0.6666666666666666,
             "#000017"
            ],
            [
             0.7777777777777778,
             "#000018"
            ],
            [
             0.8888888888888888,
             "#000019"
            ],
            [
             1,
             "#000020"
            ]
           ]
          },
          "colorscale": {
           "diverging": [
            [
             0,
             "#000021"
            ],
            [
             0.1,
             "#000022"
            ],
            [
             0.2,
             "#000023"
            ],
            [
             0.3,
             "#000024"
            ],
            [
             0.4,
             "#000025"
            ],
            [
             0.5,
             "#000026"
            ],
            [
             0.6,
             "#000027"
            ],
            [
             0.7,
             "#000028"
            ],
            [
             0.8,
             "#000029"
            ],
            [
             0.9,
             "#000030"
            ],
            [
             1,
             "#000031"
            ]
           ],
           "sequential": [
            [
             0,
             "#000011"
            ],
            [
             0.1111111111111111,
             "#000012"
            ],
            [
             0.2222222222222222,
             "#000013"
            ],
            [
             0.3333333333333333,
             "#000014"
            ],
            [
             0.4444444444444444,
             "#000015"
            ],
            [
             0.5555555555555556,
             "#000016"
            ],
            [
             0.6666666666666666,
             "#000017"
            ],
            [
             0.7777777777777778,
             "#000018"
            ],
            [
             0.8888888888888888,
             "#000019"
            ],
            [
             1,
             "#000020"
            ]
           ],
           "sequentialminus": [
            [
             0,
             "#000011"
            ],
            [
             0.1111111111111111,
             "#000012"
            ],
            [
             0.2222222222222222,
             "#000013"
            ],
            [
             0.3333333333333333,
             "#000014"
            ],
            [
             0.4444444444444444,
             "#000015"
            ],
            [
             0.5555555555555556,
             "#000016"
            ],
            [
             0.6666666666666666,
             "#000017"
            ],
            [
             0.7777777777777778,
             "#000018"
            ],
            [
             0.8888888888888888,
             "#000019"
            ],
            [
             1,
             "#000020"
            ]
           ]
          },
          "colorway": [
           "#000001",
           "#000002",
           "#000003",
           "#000004",
           "#000005",
           "#000006",
           "#000007",
           "#000008",
           "#000009",
           "#000010"
          ]
         }
        },
        "width": 1000
       }
      }
     },
     "metadata": {},
     "output_type": "display_data"
    }
   ],
   "source": [
    "fig = go.Figure(data=[\n",
    "    go.Candlestick(\n",
    "        x = daily_df.index,\n",
    "        open = daily_df[\"1. open\"],\n",
    "        high = daily_df[\"2. high\"],\n",
    "        low = daily_df[\"3. low\"],\n",
    "        close = daily_df[\"4. close\"]\n",
    "    )    \n",
    "])\n",
    "\n",
    "fig.update_layout(width = 1000, height=800)\n",
    "\n",
    "fig.show()"
   ]
  },
  {
   "cell_type": "markdown",
   "id": "74be0ba1",
   "metadata": {},
   "source": [
    "# Create a class for fetching detail for a stock"
   ]
  },
  {
   "cell_type": "code",
   "execution_count": null,
   "id": "41aa7ca6",
   "metadata": {},
   "outputs": [],
   "source": [
    "class StockAPI:\n",
    "\n",
    "    def __init__(self):\n",
    "        self.api_key = st.secrets[\"API_KEY\"]\n",
    "        self.url = \"https://alpha-vantage.p.rapidapi.com/query\"\n",
    "        self.headers = {\n",
    "            \"x-rapidapi-key\": self.api_key,\n",
    "            \"x-rapidapi-host\": \"alpha-vantage.p.rapidapi.com\"\n",
    "        }\n",
    "\n",
    "    def search_symbol(self, company_name: str):\n",
    "        querystring = {\"datatype\":\"json\",\"keywords\":company_name,\"function\":\"SYMBOL_SEARCH\"}\n",
    "        response = requests.get(self.url, headers=self.headers, params=querystring)\n",
    "        data = response.json()\n",
    "        df = pd.DataFrame(data[\"bestMatches\"])\n",
    "        search_data = df.iloc[:, 0:4]\n",
    "        return search_data\n",
    "    \n",
    "    def stock_prices(self, symbol: str):\n",
    "        querystring = {\n",
    "            \"function\":\"TIME_SERIES_DAILY\",\"symbol\":symbol,\"outputsize\":\"compact\",\"datatype\":\"json\"\n",
    "        }\n",
    "        response = requests.get(self.url, headers=self.headers, params=querystring)\n",
    "        data = response.json()\n",
    "        daily = data[\"Time Series (Daily)\"]\n",
    "        daily_df = pd.DataFrame(daily).T\n",
    "        daily_df = daily_df.astype(float)\n",
    "        daily_df.index = pd.to_datetime(daily_df.index)\n",
    "        daily_df.index.name = \"Date\"\n",
    "        return daily_df\n",
    "\n",
    "    def plot_chart(self, df: pd.DataFrame):\n",
    "        fig = go.Figure(data=[\n",
    "            go.Candlestick(\n",
    "                x = df.index,\n",
    "                open = df[\"1. open\"],\n",
    "                high = df[\"2. high\"],\n",
    "                low = df[\"3. low\"],\n",
    "                close = df[\"4. close\"]\n",
    "            )    \n",
    "        ])\n",
    "\n",
    "        fig.update_layout(width = 1000, height=800)\n",
    "        return fig"
   ]
  },
  {
   "cell_type": "code",
   "execution_count": 41,
   "id": "915a460c",
   "metadata": {},
   "outputs": [],
   "source": [
    "client = StockAPI()"
   ]
  },
  {
   "cell_type": "code",
   "execution_count": null,
   "id": "2954c36f",
   "metadata": {},
   "outputs": [
    {
     "data": {
      "text/html": [
       "<div>\n",
       "<style scoped>\n",
       "    .dataframe tbody tr th:only-of-type {\n",
       "        vertical-align: middle;\n",
       "    }\n",
       "\n",
       "    .dataframe tbody tr th {\n",
       "        vertical-align: top;\n",
       "    }\n",
       "\n",
       "    .dataframe thead th {\n",
       "        text-align: right;\n",
       "    }\n",
       "</style>\n",
       "<table border=\"1\" class=\"dataframe\">\n",
       "  <thead>\n",
       "    <tr style=\"text-align: right;\">\n",
       "      <th></th>\n",
       "      <th>1. symbol</th>\n",
       "      <th>2. name</th>\n",
       "      <th>3. type</th>\n",
       "      <th>4. region</th>\n",
       "    </tr>\n",
       "  </thead>\n",
       "  <tbody>\n",
       "    <tr>\n",
       "      <th>0</th>\n",
       "      <td>HDB</td>\n",
       "      <td>HDFC Bank Ltd</td>\n",
       "      <td>Equity</td>\n",
       "      <td>United States</td>\n",
       "    </tr>\n",
       "    <tr>\n",
       "      <th>1</th>\n",
       "      <td>HDFCBANK.BSE</td>\n",
       "      <td>HDFC Bank Limited</td>\n",
       "      <td>Equity</td>\n",
       "      <td>India/Bombay</td>\n",
       "    </tr>\n",
       "    <tr>\n",
       "      <th>2</th>\n",
       "      <td>H1DB34.SAO</td>\n",
       "      <td>HDFC Bank Limited</td>\n",
       "      <td>Equity</td>\n",
       "      <td>Brazil/Sao Paolo</td>\n",
       "    </tr>\n",
       "    <tr>\n",
       "      <th>3</th>\n",
       "      <td>HDFA.FRK</td>\n",
       "      <td>HDFC Bank Limited</td>\n",
       "      <td>Equity</td>\n",
       "      <td>Frankfurt</td>\n",
       "    </tr>\n",
       "  </tbody>\n",
       "</table>\n",
       "</div>"
      ],
      "text/plain": [
       "      1. symbol            2. name 3. type         4. region\n",
       "0           HDB      HDFC Bank Ltd  Equity     United States\n",
       "1  HDFCBANK.BSE  HDFC Bank Limited  Equity      India/Bombay\n",
       "2    H1DB34.SAO  HDFC Bank Limited  Equity  Brazil/Sao Paolo\n",
       "3      HDFA.FRK  HDFC Bank Limited  Equity         Frankfurt"
      ]
     },
     "execution_count": 42,
     "metadata": {},
     "output_type": "execute_result"
    }
   ],
   "source": [
    "client.search_symbol(company_name=\"HDFC Bank\")"
   ]
  },
  {
   "cell_type": "code",
   "execution_count": 43,
   "id": "abf3b2c8",
   "metadata": {},
   "outputs": [
    {
     "data": {
      "text/html": [
       "<div>\n",
       "<style scoped>\n",
       "    .dataframe tbody tr th:only-of-type {\n",
       "        vertical-align: middle;\n",
       "    }\n",
       "\n",
       "    .dataframe tbody tr th {\n",
       "        vertical-align: top;\n",
       "    }\n",
       "\n",
       "    .dataframe thead th {\n",
       "        text-align: right;\n",
       "    }\n",
       "</style>\n",
       "<table border=\"1\" class=\"dataframe\">\n",
       "  <thead>\n",
       "    <tr style=\"text-align: right;\">\n",
       "      <th></th>\n",
       "      <th>1. open</th>\n",
       "      <th>2. high</th>\n",
       "      <th>3. low</th>\n",
       "      <th>4. close</th>\n",
       "      <th>5. volume</th>\n",
       "    </tr>\n",
       "  </thead>\n",
       "  <tbody>\n",
       "    <tr>\n",
       "      <th>2025-07-16</th>\n",
       "      <td>2014.20</td>\n",
       "      <td>2021.90</td>\n",
       "      <td>1993.00</td>\n",
       "      <td>1996.20</td>\n",
       "      <td>504767.0</td>\n",
       "    </tr>\n",
       "    <tr>\n",
       "      <th>2025-07-15</th>\n",
       "      <td>1976.95</td>\n",
       "      <td>2003.00</td>\n",
       "      <td>1974.60</td>\n",
       "      <td>1995.30</td>\n",
       "      <td>1246105.0</td>\n",
       "    </tr>\n",
       "    <tr>\n",
       "      <th>2025-07-14</th>\n",
       "      <td>1983.55</td>\n",
       "      <td>1989.10</td>\n",
       "      <td>1970.55</td>\n",
       "      <td>1983.00</td>\n",
       "      <td>104678.0</td>\n",
       "    </tr>\n",
       "    <tr>\n",
       "      <th>2025-07-11</th>\n",
       "      <td>1997.00</td>\n",
       "      <td>2004.85</td>\n",
       "      <td>1982.00</td>\n",
       "      <td>1983.55</td>\n",
       "      <td>101211.0</td>\n",
       "    </tr>\n",
       "    <tr>\n",
       "      <th>2025-07-10</th>\n",
       "      <td>2013.05</td>\n",
       "      <td>2016.75</td>\n",
       "      <td>2000.30</td>\n",
       "      <td>2006.45</td>\n",
       "      <td>234993.0</td>\n",
       "    </tr>\n",
       "    <tr>\n",
       "      <th>...</th>\n",
       "      <td>...</td>\n",
       "      <td>...</td>\n",
       "      <td>...</td>\n",
       "      <td>...</td>\n",
       "      <td>...</td>\n",
       "    </tr>\n",
       "    <tr>\n",
       "      <th>2025-02-24</th>\n",
       "      <td>1680.10</td>\n",
       "      <td>1684.50</td>\n",
       "      <td>1661.60</td>\n",
       "      <td>1675.75</td>\n",
       "      <td>166249.0</td>\n",
       "    </tr>\n",
       "    <tr>\n",
       "      <th>2025-02-21</th>\n",
       "      <td>1683.15</td>\n",
       "      <td>1694.80</td>\n",
       "      <td>1677.80</td>\n",
       "      <td>1691.55</td>\n",
       "      <td>106892.0</td>\n",
       "    </tr>\n",
       "    <tr>\n",
       "      <th>2025-02-20</th>\n",
       "      <td>1715.05</td>\n",
       "      <td>1715.10</td>\n",
       "      <td>1685.00</td>\n",
       "      <td>1686.40</td>\n",
       "      <td>265310.0</td>\n",
       "    </tr>\n",
       "    <tr>\n",
       "      <th>2025-02-19</th>\n",
       "      <td>1718.65</td>\n",
       "      <td>1737.90</td>\n",
       "      <td>1713.05</td>\n",
       "      <td>1726.95</td>\n",
       "      <td>59133.0</td>\n",
       "    </tr>\n",
       "    <tr>\n",
       "      <th>2025-02-18</th>\n",
       "      <td>1715.00</td>\n",
       "      <td>1731.60</td>\n",
       "      <td>1706.35</td>\n",
       "      <td>1722.50</td>\n",
       "      <td>131530.0</td>\n",
       "    </tr>\n",
       "  </tbody>\n",
       "</table>\n",
       "<p>100 rows × 5 columns</p>\n",
       "</div>"
      ],
      "text/plain": [
       "            1. open  2. high   3. low  4. close  5. volume\n",
       "2025-07-16  2014.20  2021.90  1993.00   1996.20   504767.0\n",
       "2025-07-15  1976.95  2003.00  1974.60   1995.30  1246105.0\n",
       "2025-07-14  1983.55  1989.10  1970.55   1983.00   104678.0\n",
       "2025-07-11  1997.00  2004.85  1982.00   1983.55   101211.0\n",
       "2025-07-10  2013.05  2016.75  2000.30   2006.45   234993.0\n",
       "...             ...      ...      ...       ...        ...\n",
       "2025-02-24  1680.10  1684.50  1661.60   1675.75   166249.0\n",
       "2025-02-21  1683.15  1694.80  1677.80   1691.55   106892.0\n",
       "2025-02-20  1715.05  1715.10  1685.00   1686.40   265310.0\n",
       "2025-02-19  1718.65  1737.90  1713.05   1726.95    59133.0\n",
       "2025-02-18  1715.00  1731.60  1706.35   1722.50   131530.0\n",
       "\n",
       "[100 rows x 5 columns]"
      ]
     },
     "execution_count": 43,
     "metadata": {},
     "output_type": "execute_result"
    }
   ],
   "source": [
    "stock_data = client.stock_prices(symbol=\"HDFCBANK.BSE\")\n",
    "stock_data"
   ]
  },
  {
   "cell_type": "code",
   "execution_count": 44,
   "id": "4caa4605",
   "metadata": {},
   "outputs": [
    {
     "data": {
      "application/vnd.plotly.v1+json": {
       "config": {
        "plotlyServerURL": "https://plot.ly"
       },
       "data": [
        {
         "close": {
          "bdata": "zczMzMwwn0AzMzMzMy2fQAAAAAAA/J5AMzMzMzP+nkDNzMzMzFmfQGZmZmZmap9AAAAAAABGn0AAAAAAAA2fQAAAAAAAFZ9AmpmZmZkGn0DNzMzMzAafQM3MzMzMb59AzczMzMxCn0CamZmZmXmfQAAAAAAAnJ9AzczMzMzwnkAAAAAAAKKeQDMzMzMzb55AzczMzMy2nkAzMzMzMzueQJqZmZmZN55AZmZmZmYmnkAzMzMzMzyeQAAAAAAA9Z1AzczMzMxXnkBmZmZmZnaeQJqZmZmZt55AZmZmZmbqnkDNzMzMzOqeQJqZmZmZe55AMzMzMzNTnkAAAAAAABWeQGZmZmZmM55AZmZmZmZinkCamZmZmSOeQDMzMzMzD55AmpmZmZkankDNzMzMzE+eQDMzMzMzNp5AAAAAAAABnkBmZmZmZhqeQGZmZmZm6Z1AzczMzMxKnkCamZmZmTaeQAAAAAAAN55AMzMzMzPbnUBmZmZmZgyeQDMzMzMzlp5AzczMzMyEnUAzMzMzMxmeQJqZmZmZYp5AMzMzMzMqnkCamZmZmUCeQDMzMzMzEp5AAAAAAAAPnkAAAAAAANGdQJqZmZmZ/Z1AZmZmZmbZnUBmZmZmZvGdQGZmZmZmDJ5AmpmZmZmnnkAzMzMzMx6eQDMzMzMzyp1AmpmZmZlXnUCamZmZmSOdQGZmZmZmOpxAAAAAAACWm0BmZmZmZqSbQJqZmZmZeJtAAAAAAABknEDNzMzMzAacQJqZmZmZFZxAMzMzMzOdm0AAAAAAAJKcQAAAAAAAhZxAzczMzMw3nEDNzMzMzHWcQJqZmZmZJJxAZmZmZmanm0AzMzMzM52bQGZmZmZmP5tAmpmZmZkUm0CamZmZmbeaQDMzMzMzp5pAZmZmZma/mkDNzMzMzFOaQDMzMzMzXJpAZmZmZmZlmkAAAAAAAGeaQAAAAAAAZ5pAmpmZmZm8mkAAAAAAAJWaQGZmZmZmDJtAzczMzMyNmkBmZmZmZk6aQAAAAAAAL5pAMzMzMzNumkCamZmZmVmaQM3MzMzM+5pAAAAAAADqmkA=",
          "dtype": "f8"
         },
         "high": {
          "bdata": "mpmZmZmXn0AAAAAAAEyfQGZmZmZmFJ9AZmZmZmZTn0AAAAAAAIOfQAAAAAAAdZ9AZmZmZmZWn0BmZmZmZjifQAAAAAAAUZ9AmpmZmZlfn0AAAAAAAJCfQGZmZmZmfZ9AzczMzMx3n0AzMzMzM4+fQJqZmZmZrZ9AAAAAAAD4nkBmZmZmZuueQAAAAAAAlp5AmpmZmZnEnkAAAAAAAGieQM3MzMzMPp5AzczMzMxXnkAAAAAAAEueQDMzMzMzMp5AAAAAAACknkBmZmZmZrieQAAAAAAA/J5AzczMzMwnn0AzMzMzMzGfQM3MzMzMnZ5AMzMzMzNenkAzMzMzM4GeQM3MzMzMPp5AZmZmZmZynkAAAAAAAFOeQAAAAAAAOZ5AzczMzMxwnkCamZmZmXeeQM3MzMzMQ55AzczMzMwPnkCamZmZmWqeQDMzMzMzP55AAAAAAABknkCamZmZmVyeQGZmZmZmYJ5AzczMzMwonkAzMzMzM6meQAAAAAAAoJ5AAAAAAAD8nUAAAAAAAIyeQJqZmZmZcp5AzczMzMxNnkAAAAAAAICeQGZmZmZmV55AmpmZmZlBnkAAAAAAACSeQM3MzMzMJZ5AAAAAAAA0nkAAAAAAABCeQM3MzMzM555AmpmZmZnKnkAAAAAAAHieQGZmZmZm/Z1AMzMzMzNonUCamZmZmU+dQM3MzMzMa5xAmpmZmZm1m0AAAAAAANibQGZmZmZmzptAzczMzMzInEBmZmZmZi+cQDMzMzMzHZxAAAAAAABInECamZmZmbGcQAAAAAAAwpxAAAAAAACOnECamZmZmc+cQAAAAAAAMJxAzczMzMy3m0AAAAAAALWbQGZmZmZmWZtAAAAAAAAmm0AAAAAAAPCaQAAAAAAA4ppAAAAAAADcmkCamZmZmXmaQJqZmZmZjZpAmpmZmZmTmkAAAAAAAJCaQJqZmZmZuppAzczMzMzKmkAAAAAAADybQDMzMzMzI5tAAAAAAAC4mkAAAAAAAGCaQAAAAAAAUppAMzMzMzN7mkBmZmZmZsyaQJqZmZmZJ5tAZmZmZmYOm0A=",
          "dtype": "f8"
         },
         "low": {
          "bdata": "AAAAAAAkn0BmZmZmZtqeQDMzMzMzyp5AAAAAAAD4nkAzMzMzM0GfQJqZmZmZOJ9AAAAAAADonkCamZmZmf6eQM3MzMzM7J5AAAAAAAAAn0CamZmZmeWeQGZmZmZmTJ9AAAAAAAAsn0AzMzMzMySfQAAAAAAA8J5AmpmZmZmrnkAAAAAAAI2eQGZmZmZmWJ5AMzMzMzMvnkAAAAAAAByeQAAAAAAA+p1AMzMzMzP+nUAzMzMzMwCeQAAAAAAA2J1AmpmZmZk8nkAAAAAAAGyeQGZmZmZmpJ5AZmZmZmbhnkAzMzMzM1meQDMzMzMzU55AMzMzMzP0nUAAAAAAAACeQAAAAAAA0J1AZmZmZmYUnkBmZmZmZsydQAAAAAAA+J1AMzMzMzPwnUAzMzMzMxyeQGZmZmZm651AMzMzMzPGnUBmZmZmZgWeQM3MzMzM451AAAAAAAAtnkBmZmZmZiCeQAAAAAAApJ1AmpmZmZm8nUAAAAAAAAKeQAAAAAAA6J1AzczMzMx5nUBmZmZmZvidQDMzMzMzCZ5AAAAAAAAQnkAAAAAAADSeQGZmZmZmAp5AzczMzMzYnUAAAAAAALCdQM3MzMzM151AmpmZmZmPnUAzMzMzM76dQM3MzMzMAJ5AzczMzMw8nkBmZmZmZt6dQAAAAAAAV51AAAAAAAAUnUDNzMzMzPmcQAAAAAAAuJtAzczMzMxlm0BmZmZmZlqbQDMzMzMzKJtAzczMzMw/nEDNzMzMzMKbQDMzMzMznZtAAAAAAACUm0AAAAAAADucQM3MzMzMGpxAAAAAAAAqnEAAAAAAACWcQM3MzMzMtZtAMzMzMzNWm0CamZmZmVSbQAAAAAAAEJtAAAAAAADOmkCamZmZmaWaQAAAAAAAkJpAZmZmZmZjmkAzMzMzMxmaQAAAAAAATJpAZmZmZmY1mkBmZmZmZiKaQDMzMzMzYZpAzczMzMx5mkCamZmZmXiaQDMzMzMzRZpAMzMzMzNOmkAAAAAAACCaQGZmZmZm9plAMzMzMzM3mkAAAAAAAFSaQDMzMzMzxJpAZmZmZmapmkA=",
          "dtype": "f8"
         },
         "open": {
          "bdata": "zczMzMx4n0DNzMzMzOOeQDMzMzMz/p5AAAAAAAA0n0AzMzMzM3SfQM3MzMzMP59AAAAAAADonkDNzMzMzBSfQAAAAAAADJ9AmpmZmZkcn0AAAAAAAJCfQGZmZmZmTJ9AMzMzMzNgn0AAAAAAAHifQAAAAAAA8J5AZmZmZmbRnkDNzMzMzKCeQJqZmZmZaZ5AAAAAAAA6nkAAAAAAACmeQJqZmZmZB55AzczMzMxXnkAzMzMzMwCeQAAAAAAA2J1AAAAAAAB4nkAAAAAAALieQAAAAAAA/J5AMzMzMzMMn0CamZmZmWeeQAAAAAAAeJ5AMzMzMzP0nUAAAAAAAESeQAAAAAAAO55AZmZmZmYUnkBmZmZmZk+eQAAAAAAACJ5AzczMzMw3nkAAAAAAADSeQAAAAAAAAZ5AAAAAAADsnUCamZmZmRaeQAAAAAAAIJ5AmpmZmZlWnkAzMzMzMymeQJqZmZmZ2p1AzczMzMwPnkAzMzMzM2CeQAAAAAAAAJ5AmpmZmZnEnUAAAAAAAIyeQGZmZmZmKp5AzczMzMw/nkAzMzMzM0ueQAAAAAAAKJ5AzczMzMzpnUBmZmZmZhOeQAAAAAAA2J1AMzMzMzMInkDNzMzMzN+dQDMzMzMzxZ5AAAAAAABQnkAzMzMzMwieQDMzMzMzXJ1AAAAAAABonUCamZmZmTidQAAAAAAAuJtAAAAAAACfm0BmZmZmZpCbQAAAAAAAgJtAAAAAAABAnEAzMzMzM8ybQDMzMzMznZtAAAAAAAAgnEAAAAAAAJicQAAAAAAAHpxAAAAAAACAnEAAAAAAACWcQAAAAAAA0JtAMzMzMzNWm0DNzMzMzFibQAAAAAAAGJtAAAAAAADxmkAzMzMzM6eaQJqZmZmZy5pAZmZmZmZjmkAzMzMzM1GaQGZmZmZmYZpAzczMzMxbmkDNzMzMzGOaQAAAAAAApJpAAAAAAACMmkAAAAAAAB2bQDMzMzMzRZpAMzMzMzNOmkAAAAAAACCaQGZmZmZmQJpAmpmZmZlMmkAzMzMzM8yaQJqZmZmZ2ppAAAAAAADMmkA=",
          "dtype": "f8"
         },
         "type": "candlestick",
         "x": [
          "2025-07-16T00:00:00.000000000",
          "2025-07-15T00:00:00.000000000",
          "2025-07-14T00:00:00.000000000",
          "2025-07-11T00:00:00.000000000",
          "2025-07-10T00:00:00.000000000",
          "2025-07-09T00:00:00.000000000",
          "2025-07-08T00:00:00.000000000",
          "2025-07-07T00:00:00.000000000",
          "2025-07-04T00:00:00.000000000",
          "2025-07-03T00:00:00.000000000",
          "2025-07-02T00:00:00.000000000",
          "2025-07-01T00:00:00.000000000",
          "2025-06-30T00:00:00.000000000",
          "2025-06-27T00:00:00.000000000",
          "2025-06-26T00:00:00.000000000",
          "2025-06-25T00:00:00.000000000",
          "2025-06-24T00:00:00.000000000",
          "2025-06-23T00:00:00.000000000",
          "2025-06-20T00:00:00.000000000",
          "2025-06-19T00:00:00.000000000",
          "2025-06-18T00:00:00.000000000",
          "2025-06-17T00:00:00.000000000",
          "2025-06-16T00:00:00.000000000",
          "2025-06-13T00:00:00.000000000",
          "2025-06-12T00:00:00.000000000",
          "2025-06-11T00:00:00.000000000",
          "2025-06-10T00:00:00.000000000",
          "2025-06-09T00:00:00.000000000",
          "2025-06-06T00:00:00.000000000",
          "2025-06-05T00:00:00.000000000",
          "2025-06-04T00:00:00.000000000",
          "2025-06-03T00:00:00.000000000",
          "2025-06-02T00:00:00.000000000",
          "2025-05-30T00:00:00.000000000",
          "2025-05-29T00:00:00.000000000",
          "2025-05-28T00:00:00.000000000",
          "2025-05-27T00:00:00.000000000",
          "2025-05-26T00:00:00.000000000",
          "2025-05-23T00:00:00.000000000",
          "2025-05-22T00:00:00.000000000",
          "2025-05-21T00:00:00.000000000",
          "2025-05-20T00:00:00.000000000",
          "2025-05-19T00:00:00.000000000",
          "2025-05-16T00:00:00.000000000",
          "2025-05-15T00:00:00.000000000",
          "2025-05-14T00:00:00.000000000",
          "2025-05-13T00:00:00.000000000",
          "2025-05-12T00:00:00.000000000",
          "2025-05-09T00:00:00.000000000",
          "2025-05-08T00:00:00.000000000",
          "2025-05-07T00:00:00.000000000",
          "2025-05-06T00:00:00.000000000",
          "2025-05-05T00:00:00.000000000",
          "2025-05-02T00:00:00.000000000",
          "2025-04-30T00:00:00.000000000",
          "2025-04-29T00:00:00.000000000",
          "2025-04-28T00:00:00.000000000",
          "2025-04-25T00:00:00.000000000",
          "2025-04-24T00:00:00.000000000",
          "2025-04-23T00:00:00.000000000",
          "2025-04-22T00:00:00.000000000",
          "2025-04-21T00:00:00.000000000",
          "2025-04-17T00:00:00.000000000",
          "2025-04-16T00:00:00.000000000",
          "2025-04-15T00:00:00.000000000",
          "2025-04-11T00:00:00.000000000",
          "2025-04-09T00:00:00.000000000",
          "2025-04-08T00:00:00.000000000",
          "2025-04-07T00:00:00.000000000",
          "2025-04-04T00:00:00.000000000",
          "2025-04-03T00:00:00.000000000",
          "2025-04-02T00:00:00.000000000",
          "2025-04-01T00:00:00.000000000",
          "2025-03-28T00:00:00.000000000",
          "2025-03-27T00:00:00.000000000",
          "2025-03-26T00:00:00.000000000",
          "2025-03-25T00:00:00.000000000",
          "2025-03-24T00:00:00.000000000",
          "2025-03-21T00:00:00.000000000",
          "2025-03-20T00:00:00.000000000",
          "2025-03-19T00:00:00.000000000",
          "2025-03-18T00:00:00.000000000",
          "2025-03-17T00:00:00.000000000",
          "2025-03-13T00:00:00.000000000",
          "2025-03-12T00:00:00.000000000",
          "2025-03-11T00:00:00.000000000",
          "2025-03-10T00:00:00.000000000",
          "2025-03-07T00:00:00.000000000",
          "2025-03-06T00:00:00.000000000",
          "2025-03-05T00:00:00.000000000",
          "2025-03-04T00:00:00.000000000",
          "2025-03-03T00:00:00.000000000",
          "2025-02-28T00:00:00.000000000",
          "2025-02-27T00:00:00.000000000",
          "2025-02-25T00:00:00.000000000",
          "2025-02-24T00:00:00.000000000",
          "2025-02-21T00:00:00.000000000",
          "2025-02-20T00:00:00.000000000",
          "2025-02-19T00:00:00.000000000",
          "2025-02-18T00:00:00.000000000"
         ]
        }
       ],
       "layout": {
        "height": 800,
        "template": {
         "data": {
          "candlestick": [
           {
            "decreasing": {
             "line": {
              "color": "#000033"
             }
            },
            "increasing": {
             "line": {
              "color": "#000032"
             }
            },
            "type": "candlestick"
           }
          ],
          "contour": [
           {
            "colorscale": [
             [
              0,
              "#000011"
             ],
             [
              0.1111111111111111,
              "#000012"
             ],
             [
              0.2222222222222222,
              "#000013"
             ],
             [
              0.3333333333333333,
              "#000014"
             ],
             [
              0.4444444444444444,
              "#000015"
             ],
             [
              0.5555555555555556,
              "#000016"
             ],
             [
              0.6666666666666666,
              "#000017"
             ],
             [
              0.7777777777777778,
              "#000018"
             ],
             [
              0.8888888888888888,
              "#000019"
             ],
             [
              1,
              "#000020"
             ]
            ],
            "type": "contour"
           }
          ],
          "contourcarpet": [
           {
            "colorscale": [
             [
              0,
              "#000011"
             ],
             [
              0.1111111111111111,
              "#000012"
             ],
             [
              0.2222222222222222,
              "#000013"
             ],
             [
              0.3333333333333333,
              "#000014"
             ],
             [
              0.4444444444444444,
              "#000015"
             ],
             [
              0.5555555555555556,
              "#000016"
             ],
             [
              0.6666666666666666,
              "#000017"
             ],
             [
              0.7777777777777778,
              "#000018"
             ],
             [
              0.8888888888888888,
              "#000019"
             ],
             [
              1,
              "#000020"
             ]
            ],
            "type": "contourcarpet"
           }
          ],
          "heatmap": [
           {
            "colorscale": [
             [
              0,
              "#000011"
             ],
             [
              0.1111111111111111,
              "#000012"
             ],
             [
              0.2222222222222222,
              "#000013"
             ],
             [
              0.3333333333333333,
              "#000014"
             ],
             [
              0.4444444444444444,
              "#000015"
             ],
             [
              0.5555555555555556,
              "#000016"
             ],
             [
              0.6666666666666666,
              "#000017"
             ],
             [
              0.7777777777777778,
              "#000018"
             ],
             [
              0.8888888888888888,
              "#000019"
             ],
             [
              1,
              "#000020"
             ]
            ],
            "type": "heatmap"
           }
          ],
          "histogram2d": [
           {
            "colorscale": [
             [
              0,
              "#000011"
             ],
             [
              0.1111111111111111,
              "#000012"
             ],
             [
              0.2222222222222222,
              "#000013"
             ],
             [
              0.3333333333333333,
              "#000014"
             ],
             [
              0.4444444444444444,
              "#000015"
             ],
             [
              0.5555555555555556,
              "#000016"
             ],
             [
              0.6666666666666666,
              "#000017"
             ],
             [
              0.7777777777777778,
              "#000018"
             ],
             [
              0.8888888888888888,
              "#000019"
             ],
             [
              1,
              "#000020"
             ]
            ],
            "type": "histogram2d"
           }
          ],
          "icicle": [
           {
            "textfont": {
             "color": "white"
            },
            "type": "icicle"
           }
          ],
          "sankey": [
           {
            "textfont": {
             "color": "#000036"
            },
            "type": "sankey"
           }
          ],
          "scatter": [
           {
            "marker": {
             "line": {
              "width": 0
             }
            },
            "type": "scatter"
           }
          ],
          "table": [
           {
            "cells": {
             "fill": {
              "color": "#000038"
             },
             "font": {
              "color": "#000037"
             },
             "line": {
              "color": "#000039"
             }
            },
            "header": {
             "fill": {
              "color": "#000040"
             },
             "font": {
              "color": "#000036"
             },
             "line": {
              "color": "#000039"
             }
            },
            "type": "table"
           }
          ],
          "waterfall": [
           {
            "connector": {
             "line": {
              "color": "#000036",
              "width": 2
             }
            },
            "decreasing": {
             "marker": {
              "color": "#000033"
             }
            },
            "increasing": {
             "marker": {
              "color": "#000032"
             }
            },
            "totals": {
             "marker": {
              "color": "#000034"
             }
            },
            "type": "waterfall"
           }
          ]
         },
         "layout": {
          "coloraxis": {
           "colorscale": [
            [
             0,
             "#000011"
            ],
            [
             0.1111111111111111,
             "#000012"
            ],
            [
             0.2222222222222222,
             "#000013"
            ],
            [
             0.3333333333333333,
             "#000014"
            ],
            [
             0.4444444444444444,
             "#000015"
            ],
            [
             0.5555555555555556,
             "#000016"
            ],
            [
             0.6666666666666666,
             "#000017"
            ],
            [
             0.7777777777777778,
             "#000018"
            ],
            [
             0.8888888888888888,
             "#000019"
            ],
            [
             1,
             "#000020"
            ]
           ]
          },
          "colorscale": {
           "diverging": [
            [
             0,
             "#000021"
            ],
            [
             0.1,
             "#000022"
            ],
            [
             0.2,
             "#000023"
            ],
            [
             0.3,
             "#000024"
            ],
            [
             0.4,
             "#000025"
            ],
            [
             0.5,
             "#000026"
            ],
            [
             0.6,
             "#000027"
            ],
            [
             0.7,
             "#000028"
            ],
            [
             0.8,
             "#000029"
            ],
            [
             0.9,
             "#000030"
            ],
            [
             1,
             "#000031"
            ]
           ],
           "sequential": [
            [
             0,
             "#000011"
            ],
            [
             0.1111111111111111,
             "#000012"
            ],
            [
             0.2222222222222222,
             "#000013"
            ],
            [
             0.3333333333333333,
             "#000014"
            ],
            [
             0.4444444444444444,
             "#000015"
            ],
            [
             0.5555555555555556,
             "#000016"
            ],
            [
             0.6666666666666666,
             "#000017"
            ],
            [
             0.7777777777777778,
             "#000018"
            ],
            [
             0.8888888888888888,
             "#000019"
            ],
            [
             1,
             "#000020"
            ]
           ],
           "sequentialminus": [
            [
             0,
             "#000011"
            ],
            [
             0.1111111111111111,
             "#000012"
            ],
            [
             0.2222222222222222,
             "#000013"
            ],
            [
             0.3333333333333333,
             "#000014"
            ],
            [
             0.4444444444444444,
             "#000015"
            ],
            [
             0.5555555555555556,
             "#000016"
            ],
            [
             0.6666666666666666,
             "#000017"
            ],
            [
             0.7777777777777778,
             "#000018"
            ],
            [
             0.8888888888888888,
             "#000019"
            ],
            [
             1,
             "#000020"
            ]
           ]
          },
          "colorway": [
           "#000001",
           "#000002",
           "#000003",
           "#000004",
           "#000005",
           "#000006",
           "#000007",
           "#000008",
           "#000009",
           "#000010"
          ]
         }
        },
        "width": 1000
       }
      }
     },
     "metadata": {},
     "output_type": "display_data"
    }
   ],
   "source": [
    "fig2 = client.plot_chart(stock_data)\n",
    "fig2.show()"
   ]
  },
  {
   "cell_type": "code",
   "execution_count": null,
   "id": "59c2c72c",
   "metadata": {},
   "outputs": [],
   "source": []
  }
 ],
 "metadata": {
  "kernelspec": {
   "display_name": "Python 3",
   "language": "python",
   "name": "python3"
  },
  "language_info": {
   "codemirror_mode": {
    "name": "ipython",
    "version": 3
   },
   "file_extension": ".py",
   "mimetype": "text/x-python",
   "name": "python",
   "nbconvert_exporter": "python",
   "pygments_lexer": "ipython3",
   "version": "3.12.1"
  }
 },
 "nbformat": 4,
 "nbformat_minor": 5
}
